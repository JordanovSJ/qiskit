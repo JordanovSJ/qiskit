{
 "cells": [
  {
   "cell_type": "markdown",
   "metadata": {},
   "source": [
    "# Implementing the Ahnert and Payne scheme for a general 1-qubit  POVM on qiskit.\n",
    "\n"
   ]
  },
  {
   "cell_type": "markdown",
   "metadata": {},
   "source": [
    "## Introduction\n",
    "\n",
    "### POVM\n",
    "\n",
    "### Ahnert Payne\n",
    "\n",
    "#### ![Image of Yaktocat](https://www.groundai.com/media/arxiv_projects/334479/POVM.png.750x0_q75_crop.png)\n",
    "\n",
    "### Implementation, general idea"
   ]
  },
  {
   "cell_type": "code",
   "execution_count": 1,
   "metadata": {},
   "outputs": [],
   "source": [
    "from numpy import pi\n",
    "import numpy as np\n",
    "\n",
    "import qiskit\n",
    "from qiskit import QuantumCircuit, ClassicalRegister, QuantumRegister\n",
    "from qiskit import execute\n",
    "from qiskit.tools.visualization import circuit_drawer\n",
    "from qiskit import Aer\n",
    "from qiskit import IBMQ\n",
    "from qiskit.backends.ibmq import least_busy\n",
    "from qiskit.tools.visualization import plot_histogram\n"
   ]
  },
  {
   "cell_type": "markdown",
   "metadata": {},
   "source": [
    "### Constructing a doubly controlled rotation gate\n",
    "\n",
    "Before start constructing the Ahnert Payne POVM, we will create a quantum circuit performing a doubly controlled rotation on the target qubit, if the two control qubits are $ |1 \\rangle$. The allowed rotations will be either z-only or y-only, unlike the qiskit u3() operation, which can perform general multi-axial rotation. However performing combinations of doubly-controlled z- and y-rotationns, we will be able to perform any doubly-controlled operation. We will need this operation when performing the t-branches operations.\n",
    "\n",
    "Given a rotation axis $ i \\in \\{y,z\\}$, angle $\\theta$, control qubit $ q_{ctrl1}$ and $q_{ctrl2}$ and target qubit $  q_{target}$ we perform:\n",
    "$ doubleCU1(i, \\theta, q_{ctrl1}, q_{ctrl2}, q_{target}) =  C_{cx}(q_{ctrl1}, q_{ctrl2}, q_{target}) R_{i}( - \\frac{\\theta}{2}) C_{cx}(q_{ctrl1}, q_{ctrl2}, q_{target}) R_{i}(\\frac{\\theta}{2}) $   \n",
    "where $C_{cx} $ is the Toffoli gate. \n",
    "\n",
    "The reasoning being, that if the two control bits are $ |1 \\rangle$, the two Toffoli gate will effectively \"flip\" the sign of the $-\\frac{\\theta}{2}$ rotation hence it will add up the the first $\\frac{\\theta}{2}$ rotation, resulting in a total rotation of $ \\theta $. Conversely if any of the control bits is not $ |1 \\rangle$, the sign of the second rotation will not be flipped and both rotations will cancel out.  Note that this true only if perform single axis rotation."
   ]
  },
  {
   "cell_type": "code",
   "execution_count": 3,
   "metadata": {},
   "outputs": [],
   "source": [
    "# n-qubit control rotation gate\n",
    "\n",
    "def nCU1(axis, angle, q_circ, ctrls, target):\n",
    "    \"\"\"\n",
    "        Implements n-qubit controlled rotation (nCU1 )\n",
    "        The rotation is single axial (unlike the qiskit multi axial rotation u3),\n",
    "        Parameters:\n",
    "        * axis: specifies the rotation, acceptable char values 'y' and 'z'\n",
    "        (note: y and z rotation can be combined to implement any single qubit\n",
    "        unitary operation)\n",
    "        * angle: Bloch sphere angle specifying the rotation\n",
    "        * q_circ: the quantum circuit to, which the nCU1 operation is added\n",
    "        * ctrls: a list or quantum register of the control qubits.\n",
    "        * target: the target qubit\n",
    "    \"\"\"\n",
    "    n_ctrls = len(ctrls)\n",
    "    list_ctrls = list(ctrls)  # a list of the qubits is easier to work with, than the QuantumRegister object\n",
    "    new_ctrls = list_ctrls[:-1]  # take all control qubits references but the last one\n",
    "\n",
    "    if n_ctrls >= 2:\n",
    "\n",
    "        nCU1(axis, angle/2, q_circ, new_ctrls, target)\n",
    "        q_circ.cx(list_ctrls[-1], target)\n",
    "        nCU1(axis, -angle / 2, q_circ, new_ctrls, target)\n",
    "        q_circ.cx(list_ctrls[-1], target)\n",
    "    elif n_ctrls == 1:\n",
    "\n",
    "        if axis == 'y':\n",
    "            q_circ.cu3(angle, 0, 0, list_ctrls[0], target)\n",
    "        elif axis == 'z':\n",
    "            q_circ.cu3(0, 0, angle, list_ctrls[0], target)\n",
    "        else:\n",
    "            raise ValueError('Invalid value for axis!')\n",
    "    else:\n",
    "\n",
    "        if axis == 'y':\n",
    "            q_circ.u3(angle, 0, 0, target)\n",
    "        elif axis == 'z':\n",
    "            q_circ.u3(0, 0, angle, target)\n",
    "        else:\n",
    "            raise ValueError('Invalid value for axis!')\n",
    "\n",
    "    return 1"
   ]
  },
  {
   "cell_type": "markdown",
   "metadata": {},
   "source": [
    "### 2 part POVM"
   ]
  },
  {
   "cell_type": "code",
   "execution_count": 34,
   "metadata": {},
   "outputs": [],
   "source": [
    "# TODO: add phase rotations\n",
    "# TODO: use nCU1\n",
    "# TODO: exchange q1 and q2 and use a SWAP operation at the end instead (more legible)\n",
    "\n",
    "def first_AP_module(qc, q, tita1, tita2):\n",
    "    \"\"\" Implements a first module of Ahenrt Payne POVM.\n",
    "\n",
    "        qc: existing q-circuit\n",
    "\n",
    "        q: is a register of at least 3 qubit objects.\n",
    "        q[0] represents the state being measured \n",
    "        q[1] is ancilla qubit, used to represent the output branches. It should be in the zero state\n",
    "        q[2], is another ancilla qubit, required for intermidiate operations. It should be in zero state too\n",
    "        \n",
    "        The outputs (branches) correspond to the following values of q1:\n",
    "            branch p1: 0\n",
    "            branch p2: 1\n",
    "\n",
    "        tita1 and tita2 specify POVMs 1 and 2(see above)\n",
    "        (future version will allow for phase operations, specified by phi1 and phi2)\n",
    "    \"\"\"\n",
    "\n",
    "    # Split in paths p1 and p2\n",
    "    qc.cx(q[0],q[1])\n",
    "#     qc.barrier(q)  # use barriers to print the circuit accuratly later\n",
    "    # Apply the rotations along p1 and p2\n",
    "\n",
    "    # controlled rotation if qubit 1 is ZERO\n",
    "    qc.x(q[1])\n",
    "    qc.cu3(2*(tita1 + pi/2),0,0,q[1],q[0])\n",
    "    qc.x(q[1])\n",
    "#     qc.barrier(q)\n",
    "\n",
    "    # controlled rotation if qubit 1 is ONE\n",
    "    qc.cu3(2*tita2,0,0,q[1],q[0])\n",
    "#     qc.barrier(q)\n",
    "\n",
    "    # Split along t1,t2,t3,t4\n",
    "    qc.cx(q[0],q[2])\n",
    "#     qc.barrier(q)\n",
    "\n",
    "    # t1 operations: 2*Pi y rotation\n",
    "    qc.x(q[1])\n",
    "    qc.x(q[2])\n",
    "#     qc.barrier(q)\n",
    "    nCU1('y',2*pi, qc, [q[1],q[2]],q[0])\n",
    "#     qc.barrier(q)\n",
    "    qc.x(q[2])\n",
    "    qc.x(q[1])\n",
    "#     qc.barrier(q)\n",
    "\n",
    "    # t2 operations: -Pi y rotation\n",
    "    qc.x(q[1])\n",
    "#     qc.barrier(q)\n",
    "    nCU1('y',-pi, qc, [q[1],q[2]],q[0])\n",
    "#     qc.barrier(q)\n",
    "    qc.x(q[1])\n",
    "#     qc.barrier(q)\n",
    "\n",
    "    # no t3 rotations\n",
    "\n",
    "    # t4 operations: 3*Pi y rotation\n",
    "    qc.x(q[2])\n",
    "#     qc.barrier(q)\n",
    "    nCU1('y',3*pi, qc, [q[1],q[2]],q[0])\n",
    "#     qc.barrier(q)\n",
    "    qc.x(q[2])\n",
    "#     qc.barrier(q)\n",
    "\n",
    "    # recombine t1 and t3 to p1, and t2 and t4 to p2\n",
    "    qc.cx(q[0],q[1])\n",
    "    \n",
    "    # Swap q2 and q1, so that the 2 part POVM outputs are represent by (not q2),\n",
    "    qc.swap(q[1], q[2])\n",
    "    \n",
    "    # flip q1, so that the outputs p1 and p2 are represented by the 0 and 1 (not 1 and 0)\n",
    "    qc.x(q[1])\n"
   ]
  },
  {
   "cell_type": "markdown",
   "metadata": {},
   "source": [
    "## Testing "
   ]
  },
  {
   "cell_type": "code",
   "execution_count": 35,
   "metadata": {
    "scrolled": false
   },
   "outputs": [
    {
     "name": "stderr",
     "output_type": "stream",
     "text": [
      "WARNING: Unable to compile latex. Is `pdflatex` installed? Skipping latex circuit drawing...\n"
     ]
    },
    {
     "data": {
      "image/png": "[encoded data removed]",
      "text/plain": [
       "<Figure size 1384.6x800.66 with 1 Axes>"
      ]
     },
     "metadata": {},
     "output_type": "display_data"
    }
   ],
   "source": [
    "# Create a Quantum Register with 3 qubits.\n",
    "q = QuantumRegister(3, 'q')\n",
    "\n",
    "# Create a Quantum Circuit acting on the q register\n",
    "qc = QuantumCircuit(q)\n",
    "\n",
    "# prepare the input state (the input state will be represented by qubit 0)\n",
    "qc.u3(pi*2/3, 0 ,0, q[0])\n",
    "# qc.barrier(q)\n",
    "\n",
    "# Apply the POVM\n",
    "first_AP_module(qc,q,pi/4,pi/4)\n",
    "\n",
    "# Add Measurements\n",
    "\n",
    "# Create a Classical Register with 3 bits.\n",
    "c = ClassicalRegister(3, 'c')\n",
    "# Create a Quantum Circuit\n",
    "meas = QuantumCircuit(q, c)\n",
    "meas.barrier(q)\n",
    "# map the quantum measurement to the classical bits\n",
    "meas.measure(q,c)\n",
    "\n",
    "# The Qiskit circuit object supports composition using\n",
    "# the addition operator.\n",
    "qc = qc+meas\n",
    "\n",
    "circuit_drawer(qc)\n"
   ]
  },
  {
   "cell_type": "markdown",
   "metadata": {},
   "source": [
    "### Run the simulator"
   ]
  },
  {
   "cell_type": "code",
   "execution_count": 36,
   "metadata": {
    "scrolled": true
   },
   "outputs": [
    {
     "data": {
      "image/png": "[encoded data removed]",
      "text/plain": [
       "<Figure size 432x288 with 1 Axes>"
      ]
     },
     "metadata": {
      "needs_background": "light"
     },
     "output_type": "display_data"
    }
   ],
   "source": [
    "# Run the quantum circuit on a simulator backend\n",
    "backend = Aer.get_backend('qasm_simulator')\n",
    "shots = 8096\n",
    "\n",
    "# Create a Quantum Program for execution \n",
    "job = execute(qc, backend, shots = shots)\n",
    "\n",
    "# execute\n",
    "result = job.result()\n",
    "\n",
    "counts = result.get_counts(qc)\n",
    "plot_histogram(counts)"
   ]
  },
  {
   "cell_type": "markdown",
   "metadata": {},
   "source": [
    "### REAL DEVICE EXPERIMENT\n"
   ]
  },
  {
   "cell_type": "code",
   "execution_count": 43,
   "metadata": {
    "scrolled": false
   },
   "outputs": [
    {
     "name": "stdout",
     "output_type": "stream",
     "text": [
      "The best backend is ibmqx4\n"
     ]
    }
   ],
   "source": [
    "# IBMQ.save_account(token)\n",
    "IBMQ.load_accounts()\n",
    "\n",
    "\n",
    "shots = 8192           # Number of shots to run the program (experiment); maximum is 8192 shots.\n",
    "max_credits = 10       # Maximum number of credits to spend on executions. \n",
    "n_qubits = 3\n",
    "\n",
    "\n",
    "large_enough_devices = IBMQ.backends(filters=lambda x: x.configuration()['n_qubits'] > n_qubits and\n",
    "                                                       not x.configuration()['simulator'])\n",
    "backend = least_busy(large_enough_devices)\n",
    "# backend = IBMQ.backends(filters=lambda x: x.name == 'ibmqx5')\n",
    "print(\"The best backend is \" + backend.name())\n",
    "\n",
    "job_exp = execute(qc, backend=backend, shots=shots, max_credits=max_credits)"
   ]
  },
  {
   "cell_type": "code",
   "execution_count": 44,
   "metadata": {
    "scrolled": false
   },
   "outputs": [],
   "source": [
    "# <<<<<<<<<<< EXECUTING real experiment >>>>>>>>>>>>>>\n",
    "run = 1  # keep 0 untill you want to run the experiment, to avoid running by mistake. It is slow and cost credits!\n",
    "if run:\n",
    "    result = job_exp.result()"
   ]
  },
  {
   "cell_type": "code",
   "execution_count": 45,
   "metadata": {
    "scrolled": true
   },
   "outputs": [
    {
     "data": {
      "image/png": "[encoded data removed]",
      "text/plain": [
       "<Figure size 432x288 with 1 Axes>"
      ]
     },
     "metadata": {
      "needs_background": "light"
     },
     "output_type": "display_data"
    }
   ],
   "source": [
    "counts = result.get_counts(qc)\n",
    "plot_histogram(counts)"
   ]
  },
  {
   "cell_type": "markdown",
   "metadata": {},
   "source": [
    "### 3 Part POVM\n",
    "\n",
    "#### General idea\n",
    "\n",
    "#### Implementation\n"
   ]
  },
  {
   "cell_type": "code",
   "execution_count": 46,
   "metadata": {},
   "outputs": [],
   "source": [
    "# TODO: add phase rotations\n",
    "\n",
    "def second_AP_module(qc, q, tita3, tita4):\n",
    "    \"\"\" Implements a second module of Ahenrt Payne POVM.\n",
    "\n",
    "        qc: existing q-circuit\n",
    "\n",
    "        q: is a register of at least 4 qubit objects.\n",
    "        q[0] represents the state being measured \n",
    "        q[1], q[2] are ancilla qubits, used to represent the output branches. They should be in the zero state\n",
    "        q[3], is another ancilla qubit, required for intermidiate operations. It should be in zero state too\n",
    "        \n",
    "        The outputs (branches) correspond to the following values of q1q2:\n",
    "            branch p1: 00\n",
    "            branch p2: 10\n",
    "            branch p3: 11\n",
    "\n",
    "        tita3 and tita4 specify POVMs 3 and 4(see above)\n",
    "        (future version will allow for phase operations, specified by phi2 and phi3)\n",
    "    \"\"\"\n",
    "\n",
    "    # Split in branches p3 and p4\n",
    "    qc.ccx(q[0],q[1],q[2])\n",
    "    \n",
    "    # Apply the rotations along p1' and p2'\n",
    "\n",
    "    # Rotation along p1' branch\n",
    "    qc.x(q[2])\n",
    "    nCU1('y', 2*(tita3 + pi/2), qc,[q[1], q[2]],q[0])\n",
    "    qc.x(q[2])\n",
    "\n",
    "    # rotation along p2' branch\n",
    "    nCU1('y', 2*tita2,qc ,[q[1], q[2]],q[0])\n",
    "\n",
    "    # Split along t branches\n",
    "    qc.ccx(q[0],q[1], q[3])\n",
    "    \n",
    "    # define short cut for the control qubits\n",
    "    ctrls = [q[1],q[2],q[3]]                  \n",
    "                      \n",
    "    # Rotation along t1' branch\n",
    "    qc.x(q[2])\n",
    "    qc.x(q[3])\n",
    "    nCU1('y',2*pi, qc, ctrls, q[0])\n",
    "    qc.x(q[3])\n",
    "    qc.x(q[2])\n",
    "\n",
    "    # Rotation along t2' branch\n",
    "    qc.x(q[2])\n",
    "    nCU1('y',-pi, qc, ctrls, q[0])\n",
    "    qc.x(q[2])\n",
    "\n",
    "    # no t3 rotations\n",
    "\n",
    "    # Rotation along t4' branch\n",
    "    qc.x(q[3])\n",
    "    nCU1('y',3*pi, qc, ctrls, q[0])\n",
    "    qc.x(q[3])\n",
    "\n",
    "    # recombine t1' and t3' to p1', and t2' and t4' to p2'\n",
    "    qc.ccx(q[0], q[1], q[2])\n",
    "\n",
    "    # Swap q2 and q3, so that the 3 part POVM outputs are represent by q1 and q2 (not q1 and q3),\n",
    "    qc.swap(q[2], q[3])\n",
    "    \n",
    "    # Flip q2 for the second AP panel only, so that the outputs p1, p2, and p3, \n",
    "    # are represented by the 00, 10 andd 11 respectevely \n",
    "    qc.cx(q[1], q[2])"
   ]
  },
  {
   "cell_type": "markdown",
   "metadata": {},
   "source": [
    "\n",
    "#### Example:\n",
    "\n",
    "As an example we implement the popular case of nonorthogonal 3 part POVM along axes separated by $ 120^o $ in the $ xz $ plane of the Block sphere. "
   ]
  },
  {
   "cell_type": "code",
   "execution_count": 47,
   "metadata": {},
   "outputs": [],
   "source": [
    "# angle parameters for the 1st and 2nd panel\n",
    "tita1 = np.arccos(np.sqrt(2/3))\n",
    "tita2 = pi/2\n",
    "tita3 = 0\n",
    "tita4 = pi/2\n",
    "\n",
    "# Ui and Uii are implemented as controled rotations as well. \n",
    "# In our example Ui = I, so no action needed\n",
    "# For Uii required y rotation at -pi/2 rads \n",
    "\n",
    "alpha_ui = 0\n",
    "alpha_uii = -pi/2"
   ]
  },
  {
   "cell_type": "code",
   "execution_count": 58,
   "metadata": {},
   "outputs": [],
   "source": [
    "# Create a Quantum Register with 4 qubits.\n",
    "q = QuantumRegister(4, 'q')\n",
    "\n",
    "# Create a Quantum Circuit acting on the q register\n",
    "qc = QuantumCircuit(q)\n",
    "\n",
    "qc.u3(0, 0, 0, q[0])  # INITIAL STATE!\n",
    "\n",
    "# Apply Ui\n",
    "qc.u3(alpha_ui, 0, 0, q[0])  # for the sake of clarity\n",
    "\n",
    "# Apply the 1st AnP panel\n",
    "first_AP_module(qc,q,tita1,tita2)\n",
    "    \n",
    "# Apply Uii, require a single qubit controled rotation \n",
    "nCU1('y', alpha_uii, qc, [q[1]], q[0])     \n",
    "\n",
    "# Apply 2nd Ahnert Payne POVM module\n",
    "second_AP_module(qc, q, tita3, tita4)\n"
   ]
  },
  {
   "cell_type": "markdown",
   "metadata": {},
   "source": [
    "At this point we have obtained the desired POVMs $F_1, F_2$ and $F_3$. However they do not completerly define the measurement operators $ M_1, M_2 $ and $ M_3 $. To fully specify the measurements we need to perform $ T_1 , T_2, T_3 $ unitary operations to each of the 3 outputs. \n",
    "\n",
    "In the case of three measurements corresponding to axes $ 120^o$ apart, one of which is along the $z_+$ axis we need to perform the following T operations:\n",
    "\n",
    "$ T_1 = I = \\left( \\begin{smallmatrix} 1&0\\\\ 0&1 \\end{smallmatrix} \\right)$ , $ T_2 = \\frac{1}{2} \\left( \\begin{smallmatrix} 1& -\\sqrt{3}\\\\ \\sqrt{3}&1 \\end{smallmatrix} \\right)$,  $ T_3 = \\frac{1}{2} \\left( \\begin{smallmatrix} 1& \\sqrt{3}\\\\ -\\sqrt{3}&1 \\end{smallmatrix} \\right)$ \n",
    "\n",
    "To perform this operations we use our n-qubit controled rotation. We perform y-axis rotation at angles $ 0 ,\\frac{2\\pi}{3}, \\frac{-2\\pi}{3} $ respectevely, with control qubits $ { q_1, q_2 } $ and target qubit $ q_0 $. Again we use X gates to tackle the values of the control qubits. \n"
   ]
  },
  {
   "cell_type": "code",
   "execution_count": 49,
   "metadata": {},
   "outputs": [
    {
     "data": {
      "text/plain": [
       "1"
      ]
     },
     "execution_count": 49,
     "metadata": {},
     "output_type": "execute_result"
    }
   ],
   "source": [
    "# perform T2 on p2 branch, correspond to 10 value of q1q2\n",
    "qc.x(q[2])\n",
    "nCU1('y', 2*pi/3, qc, [q[1], q[2]], q[0] )\n",
    "qc.x(q[2])\n",
    "\n",
    "# perform T3 on p3 branch, correspond to 11 value of q1q2\n",
    "nCU1('y', -2*pi/3, qc, [q[1], q[2]], q[0] )  # changee???\n"
   ]
  },
  {
   "cell_type": "code",
   "execution_count": 59,
   "metadata": {
    "scrolled": true
   },
   "outputs": [],
   "source": [
    "# Add Measurements\n",
    "\n",
    "# Create a Classical Register with 3 bits.\n",
    "c = ClassicalRegister(4, 'c')\n",
    "# Create a Quantum Circuit\n",
    "meas = QuantumCircuit(q, c)\n",
    "meas.barrier(q)\n",
    "# map the quantum measurement to the classical bits\n",
    "meas.measure(q,c)\n",
    "\n",
    "# The Qiskit circuit object supports composition using\n",
    "# the addition operator.\n",
    "qc = qc+meas\n",
    "\n",
    "# circuit_drawer(qc)"
   ]
  },
  {
   "cell_type": "code",
   "execution_count": 60,
   "metadata": {},
   "outputs": [
    {
     "data": {
      "image/png": "[encoded data removed]",
      "text/plain": [
       "<Figure size 432x288 with 1 Axes>"
      ]
     },
     "metadata": {
      "needs_background": "light"
     },
     "output_type": "display_data"
    }
   ],
   "source": [
    "# Run the quantum circuit on a simulator backend\n",
    "backend = Aer.get_backend('qasm_simulator')\n",
    "shots = 8096\n",
    "\n",
    "# Create a Quantum Program for execution \n",
    "job = execute(qc, backend, shots = shots)\n",
    "\n",
    "# execute\n",
    "result = job.result()\n",
    "\n",
    "counts = result.get_counts(qc)\n",
    "plot_histogram(counts)"
   ]
  },
  {
   "cell_type": "code",
   "execution_count": 73,
   "metadata": {},
   "outputs": [
    {
     "data": {
      "text/plain": [
       "3.9880239520958085"
      ]
     },
     "execution_count": 73,
     "metadata": {},
     "output_type": "execute_result"
    }
   ],
   "source": [
    "(0.666)/0.167"
   ]
  },
  {
   "cell_type": "code",
   "execution_count": null,
   "metadata": {},
   "outputs": [],
   "source": []
  }
 ],
 "metadata": {
  "kernelspec": {
   "display_name": "Python 3",
   "language": "python",
   "name": "python3"
  },
  "language_info": {
   "codemirror_mode": {
    "name": "ipython",
    "version": 3
   },
   "file_extension": ".py",
   "mimetype": "text/x-python",
   "name": "python",
   "nbconvert_exporter": "python",
   "pygments_lexer": "ipython3",
   "version": "3.6.7"
  }
 },
 "nbformat": 4,
 "nbformat_minor": 2
}
