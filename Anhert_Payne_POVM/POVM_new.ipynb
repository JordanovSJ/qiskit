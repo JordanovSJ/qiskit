{
 "cells": [
  {
   "cell_type": "markdown",
   "metadata": {},
   "source": [
    "# How to perform an arbitrary POVM on a quantum (gate based) computer\n",
    "\n",
    "\n"
   ]
  },
  {
   "cell_type": "markdown",
   "metadata": {},
   "source": [
    "#### What is a POVM \n",
    "\n",
    "In quantum mechanics positive operator-valued measures (POVMs) describe the most general form of a quantum measurement. They can be used to distinguish probabilistically between non-orthogonal quantum states and are used in applications like state discrimination, quantum tomography, and qunatum encryption. \n",
    "A POVM is defined as a set of $n$ positive operators $\\{\\hat{E}_i\\}$ that satisfy the completeness relation $ \\sum_{i=1}^{n} \\hat{E}_i = \\hat{I}$, where $\\hat{E}_i = \\hat{M}_i^\\dagger \\hat{M}_i$ and the $\\{\\hat{M}_i\\}$ are measurement operators. Performing a POVM on a system in initial state $|\\psi_0\\rangle$ results in wave function reduction to one of $n$ possible measurement outcomes $|\\psi_0\\rangle \\rightarrow |\\psi_i\\rangle =\\frac{\\hat{M}_i|\\psi_0\\rangle}{\\sqrt{\\langle\\psi_0|\\hat{M}_i^{\\dagger}  \\hat{M}_i|\\psi_0\\rangle}}$, with probability $p_i = \\langle\\psi_0|\\hat{M}_i^{\\dagger}  \\hat{M}_i|\\psi_0\\rangle$ (for more details see Nielsen and Chuang). \n",
    "\n",
    "#### How are POVMs implemented\n",
    "\n",
    "In practice POVMs are either implemented by a physical hardware, specifically tailored for the task, or simulated by quantum gate operations, in some cases involving classical post-processing. \n",
    "A well known way to perform a POVM in a deterministic way, without classical post-processing is using Neumark's theorem. It states that a POVM of $n$-elements, on a target system A, can be performed by introducing an ancilla system B, with Hilbert space spanned by $n$ orthonormal basis states $|i^{(B)}\\rangle$ that are in one-to-one correspondence with the POVM measurement outcomes. A unitary operation $\\hat{U}_{AB}$ is then applied to the joint state of the two systems, such that\n",
    "\\begin{equation}\\label{eq.Uab}\n",
    "\\hat{U}_{AB}|\\psi_0^{(A)}\\rangle|0^{(B)}\\rangle = \\sum_{i=1}^n\\big[\\hat{M}_{i}|\\psi_0^{(A)}\\rangle\\big]|i^{(B)}\\rangle.\n",
    "\\end{equation}\n",
    "By performing a projective measurement on system B, system A collapses to one of the $n$ states $\\hat{M}_i|\\psi^{(A)}_0\\rangle$ that correspond to the outcomes of the POVM.\n",
    "\n",
    "\n",
    "#### Implementing Neumark's method\n",
    "\n",
    "Based on the method, described above, we show how to perform a general $n$-element POVM on a target system consisting of a single qubit, using an ancilla system of $~ \\log_2n$ qubits. To implement $\\hat{U}_{AB}$, we divide it into a sequence of $(n-1)$ quantum gate circuits, which we refer to as modules. Each of these modules, except the first, will perform a general single-qubit $2$-element POVM on one of the POVM outcomes of the preceding module, and entangle the additionally produced outcome to a new state of the ancilla system.\n",
    "\n",
    "In this notebook we will visualize this technique by implementing an example of a $3$-element single-qubit POVM, consisting of just two modules, defined by measurement operators that project on three states separated by $\\frac{2 \\pi}{3} rad$ in the $x-z$ plane of the Bloch sphere of the target qubit:\n",
    "\\begin{equation}\\label{eq:M31}\n",
    "\\hat{M}_1=\\sqrt{\\frac{2}{3}}|0\\rangle\\langle 0|,\n",
    "\\end{equation}\n",
    "\\begin{equation}\\label{eq:M32}\n",
    "\\hat{M}_2=\\frac{1}{\\sqrt{6}}\\frac{|0\\rangle + \\sqrt{3}|1\\rangle}{2}\\frac{\\langle0| + \\sqrt{3}\\langle1|}{2},\n",
    "\\end{equation}\n",
    "\\begin{equation}\\label{eq:M33}\n",
    "\\hat{M}_3=\\frac{1}{\\sqrt{6}}\\frac{|0\\rangle - \\sqrt{3}|1\\rangle}{2}\\frac{\\langle0| - \\sqrt{3}\\langle1|}{2}.\n",
    "\\end{equation}\n",
    "This POVM is a classic example considered in literature that can be used to distinguish between non-orthogonal states (for example $ |1\\rangle$ and $\\frac{\\sqrt{3}|0\\rangle+|1\\rangle}{2} $). "
   ]
  },
  {
   "cell_type": "code",
   "execution_count": 41,
   "metadata": {},
   "outputs": [],
   "source": [
    "# import required libraries\n",
    "\n",
    "from numpy import pi\n",
    "import numpy as np\n",
    "import qiskit\n",
    "from qiskit import QuantumCircuit, ClassicalRegister, QuantumRegister\n",
    "from qiskit import execute\n",
    "from qiskit.tools.visualization import circuit_drawer\n",
    "from qiskit import Aer\n",
    "from qiskit import IBMQ\n",
    "from qiskit.tools.visualization import plot_histogram"
   ]
  },
  {
   "cell_type": "markdown",
   "metadata": {},
   "source": [
    "### Constructing a multi-qubit controlled rotation gate\n",
    "\n",
    "Before we continue with constructing the two modules for our $3$-element POVM, we need a way to construct multi-qubit-controlled rotation gates, which will be required.\n",
    "To carry out a rotation around a single axis of the Bloch sphere of a qubit $q_0$, controlled by qubits $q_1..q_m$, the rotation is decomposed to two rotations with $m-1$ control qubits as\n",
    "\\begin{equation}\n",
    "CR_i(\\theta, q_1..q_m, q_0) =  CNOT(q_1, q_0)CR_i(-\\frac{\\theta}{2}, q_2..q_m, q_0)CNOT(q_1, q_0)CR_i(\\frac{\\theta}{2}, q_2..q_m, q_0)\n",
    "\\end{equation}\n",
    "where $i\\in \\{x,y,z\\}$ and $CR$ stands for controlled-rotation. By decomposing each controlled rotation further, the overall operation can be brought down to $(2^m-2)$ CNOTs and $2m$ one-qubit rotations.\n",
    "\n",
    "In the box below we present a function used to costruct a multi-qubit controlled gate."
   ]
  },
  {
   "cell_type": "code",
   "execution_count": 2,
   "metadata": {},
   "outputs": [],
   "source": [
    "def nCU1(axis, angle, q_circ, ctrls, target):\n",
    "    \"\"\"\n",
    "        Construct a circuit for n-qubit controlled rotation\n",
    "        * axis: axis of rotation (accepts values 'y' and 'z')\n",
    "        * angle: angle of rotation\n",
    "        * q_circ: the quantum circuit to, which the nCU1 operation is added\n",
    "        * ctrls: a List or a quantum register of control qubits.\n",
    "        * target: the target qubit\n",
    "    \"\"\"\n",
    "    n_ctrls = len(ctrls)\n",
    "    list_ctrls = list(ctrls)  \n",
    "    new_ctrls = list_ctrls[:-1]  \n",
    "\n",
    "    if n_ctrls == 1:\n",
    "        \n",
    "        if axis == 'y':\n",
    "            q_circ.u3(angle, 0, 0, target)\n",
    "            q_circ.cx(list_ctrls[0], target)\n",
    "            q_circ.u3(-angle, 0, 0, target)\n",
    "            q_circ.cx(list_ctrls[0], target)\n",
    "            \n",
    "        elif axis == 'z':\n",
    "            q_circ.u3(0,0,angle, target)\n",
    "            q_circ.cx(list_ctrls[0], target)\n",
    "            q_circ.u3(0,0,-angle, target)\n",
    "            q_circ.cx(list_ctrls[0], target)\n",
    "            \n",
    "        else:\n",
    "            raise ValueError('Invalid value for axis!')\n",
    "        \n",
    "    elif n_ctrls >= 2:\n",
    "        \n",
    "        nCU1(axis, angle/2, q_circ, new_ctrls, target)\n",
    "        q_circ.cx(list_ctrls[-1], target)\n",
    "        nCU1(axis, -angle/2, q_circ, new_ctrls, target)\n",
    "        q_circ.cx(list_ctrls[-1], target)\n",
    "        \n",
    "    else:\n",
    "\n",
    "        if axis == 'y':\n",
    "            q_circ.u3(angle*2, 0, 0, target)\n",
    "        elif axis == 'z':\n",
    "            q_circ.u3(0, 0, angle*2, target)\n",
    "        else:\n",
    "            raise ValueError('Invalid value for axis!')\n",
    "\n",
    "    return 1"
   ]
  },
  {
   "attachments": {
    "2POVM_circuit-1.png": {
     "image/png": "[encoded data removed]"
    }
   },
   "cell_type": "markdown",
   "metadata": {},
   "source": [
    "### Constructing the first 2-element POVM module\n",
    "\n",
    "![2POVM_circuit-1.png](attachment:2POVM_circuit-1.png)\n",
    "\n",
    "Now we proceed to construct the first of the two POVM modules. For this we need to consider one target and one ancilla qubit. For a target qubit in an arbitrary initial state $|\\psi_0 \\rangle = a|0\\rangle + b|1\\rangle$ and an ancilla qubit in $|0\\rangle$ the joint system initial state is $|\\Psi_0 \\rangle = |\\psi_0 \\rangle|0\\rangle $.\n",
    "The module should perform a general $2$-element POVM on the state of the target qubit. This is accomplished with the circuit depicted above, which transforms the system state as\n",
    "\n",
    "\\begin{equation}\\label{eq:2POVM_res}\n",
    "|\\Psi_0 \\rangle \\rightarrow |\\Psi_f\\rangle= \\Big(\\hat{V}_1\\hat{D}_1\\hat{U}|\\psi_0\\rangle\\Big)|0\\rangle + \\Big(\\hat{V}_2\\hat{D}_2\\hat{U} |\\psi_0\\rangle\\Big)|1\\rangle,\n",
    "\\end{equation}\n",
    "where $\\hat{D}_1 = \\cos \\theta_1 |0 \\rangle \\langle 0 | + \\cos \\theta_2 |1 \\rangle \\langle 1 |$ and\n",
    "$\\hat{D}_2 = \\sin \\theta_1 |0 \\rangle \\langle 0 | + \\sin \\theta_2 |1 \\rangle \\langle 1 |$. This state corresponds to the output of a general single-qubit POVM, with measurement operators $ \\hat{M}_1 =\\hat{V}_1 \\hat{D}_1 \\hat{U}$ and $\\hat{M}_2 = \\hat{V}_1 \\hat{D}_2 \\hat{U}$. \n",
    "\n",
    "Below we construct the circuit for the first POVM module."
   ]
  },
  {
   "cell_type": "code",
   "execution_count": 3,
   "metadata": {},
   "outputs": [],
   "source": [
    "def module_1(q_circ, q, u_y=0, u_z=0, theta1=0, theta2=0, v1_y=0, v1_z=0, v2_y=0, v2_z=0):  \n",
    "    \"\"\" Constructs the circuit for the first POVM module\n",
    "        q_circ: a quantun circuit object\n",
    "        q: a register of at least 2 qubits.\n",
    "            q[0] the target qubit \n",
    "            q[1] the ancilla qubit\n",
    "        u_y, u_z, v1_y, v1_z, v2_y, v2_z: y and z rotation angles speciying single-qubit unitaries\n",
    "                                          U, V1 and V2 (a general single-qubit unitary can be expsresed\n",
    "                                          by a combination of an x- and y- rotation)\n",
    "        theta1, theta2: angles specifying y-rotations (see diagram above)\n",
    "    \"\"\"\n",
    "    \n",
    "    # perform U\n",
    "    q_circ.u3(u_y, 0, u_z, q[0])\n",
    "    \n",
    "    # Ry(theta1) (controlled by value 0, hence the two X gates)\n",
    "    q_circ.x(q[0])\n",
    "    nCU1('y', theta1, q_circ,[q[0]],q[1]) \n",
    "    q_circ.x(q[0])\n",
    "    \n",
    "    # Ty(theta2)\n",
    "    nCU1('y', theta2, q_circ,[q[0]],q[1])\n",
    "    \n",
    "    #perform V1\n",
    "    q_circ.x(q[1])\n",
    "    nCU1('y', v1_y, q_circ,[q[1]],q[0]) \n",
    "    nCU1('z', v1_z, q_circ,[q[1]],q[0]) \n",
    "    q_circ.x(q[1])\n",
    "    \n",
    "    #perform V2\n",
    "    nCU1('y', v2_y, q_circ,[q[1]],q[0]) \n",
    "    nCU1('z', v2_z, q_circ,[q[1]],q[0]) \n"
   ]
  },
  {
   "cell_type": "markdown",
   "metadata": {},
   "source": [
    "### Constructing the second 2-element POVM module\n"
   ]
  },
  {
   "cell_type": "code",
   "execution_count": 4,
   "metadata": {},
   "outputs": [],
   "source": [
    "def module_2(q_circ, q, theta1=0, theta2=0, v1_y=0, v1_z=0, v2_y=0, v2_z=0):  \n",
    "    \"\"\" Constructs the circuit for the second POVM module\n",
    "    \"\"\"\n",
    "    \n",
    "    # Ry(theta1)\n",
    "    qc.x(q[0])\n",
    "    nCU1('y', theta1, qc,[q[1], q[0]],q[2])\n",
    "    qc.x(q[0])\n",
    "    \n",
    "    # Ry(theta2)\n",
    "    nCU1('y', theta2,qc ,[q[1], q[0]],q[2])\n",
    "  \n",
    "    #perform V1\n",
    "    q_circ.x(q[2])\n",
    "    nCU1('y', v1_y, q_circ,[q[1], q[2]], q[0]) \n",
    "    nCU1('z', v1_z, q_circ,[q[1], q[2]], q[0]) \n",
    "    q_circ.x(q[2])\n",
    "    \n",
    "    #perform V2\n",
    "    nCU1('y', v2_y, q_circ,[q[1], q[2]], q[0]) \n",
    "    nCU1('z', v2_z, q_circ,[q[1], q[2]], q[0]) "
   ]
  },
  {
   "cell_type": "code",
   "execution_count": 37,
   "metadata": {},
   "outputs": [],
   "source": [
    "# angle parameters for the 1st and 2nd panel\n",
    "theta11 = np.arccos(np.sqrt(2/3))\n",
    "theta12 = pi/2\n",
    "theta21=0\n",
    "theta22 = pi/2\n",
    "\n",
    "v21_y=-pi/3\n",
    "v22_y= 5*pi/6\n",
    "\n",
    "# Ui and Uii are implemented as controled rotations as well. \n",
    "# In our example Ui = I, so no action needed\n",
    "# For Uii required y rotation at -pi/2 rads \n",
    "\n",
    "alpha_uii = pi/4"
   ]
  },
  {
   "cell_type": "code",
   "execution_count": 38,
   "metadata": {},
   "outputs": [],
   "source": [
    "# Create a Quantum Register object with 3 qubits.\n",
    "q = QuantumRegister(3, 'q')\n",
    "\n",
    "# Create a Quantum Circuit object acting on the register\n",
    "qc = QuantumCircuit(q)\n",
    "\n",
    "# Perform the 1st POVM module\n",
    "module_1(qc,q,theta1=theta11,theta2=theta12, v2_y=alpha_uii)\n",
    "\n",
    "# Perform the 2nd POVM mdoule\n",
    "module_2(qc,q, theta1=theta21, theta2=theta22 ,v1_y= v21_y, v2_y=v22_y)\n",
    "\n",
    "\n",
    "# Add Measurements\n",
    "c = ClassicalRegister(3, 'c')\n",
    "meas = QuantumCircuit(q, c)\n",
    "meas.measure(q,c)\n",
    "# Add the measurements to our quantum circuit\n",
    "qc = qc+meas\n",
    "\n",
    "# circuit_drawer(qc)"
   ]
  },
  {
   "cell_type": "code",
   "execution_count": 40,
   "metadata": {},
   "outputs": [
    {
     "data": {
      "image/png": "[encoded data removed]",
      "text/plain": [
       "<Figure size 432x288 with 1 Axes>"
      ]
     },
     "metadata": {
      "needs_background": "light"
     },
     "output_type": "display_data"
    }
   ],
   "source": [
    "# Run the quantum simulator\n",
    "backend = Aer.get_backend('qasm_simulator')\n",
    "shots = 8192\n",
    "job = execute(qc, backend, shots = shots)\n",
    "\n",
    "# execute\n",
    "result = job.result()\n",
    "\n",
    "# obtain results\n",
    "counts = result.get_counts(qc)\n",
    "plot_histogram(counts)"
   ]
  },
  {
   "cell_type": "code",
   "execution_count": 46,
   "metadata": {
    "scrolled": true
   },
   "outputs": [
    {
     "ename": "AttributeError",
     "evalue": "'IBMQProvider' object has no attribute 'load_account'",
     "output_type": "error",
     "traceback": [
      "\u001b[0;31m---------------------------------------------------------------------------\u001b[0m",
      "\u001b[0;31mAttributeError\u001b[0m                            Traceback (most recent call last)",
      "\u001b[0;32m<ipython-input-46-c5d27d68728b>\u001b[0m in \u001b[0;36m<module>\u001b[0;34m\u001b[0m\n\u001b[1;32m      1\u001b[0m \u001b[0;31m# IBMQ.save_account(token)\u001b[0m\u001b[0;34m\u001b[0m\u001b[0;34m\u001b[0m\u001b[0;34m\u001b[0m\u001b[0m\n\u001b[0;32m----> 2\u001b[0;31m \u001b[0mIBMQ\u001b[0m\u001b[0;34m.\u001b[0m\u001b[0mload_account\u001b[0m\u001b[0;34m(\u001b[0m\u001b[0;34m)\u001b[0m\u001b[0;34m\u001b[0m\u001b[0;34m\u001b[0m\u001b[0m\n\u001b[0m\u001b[1;32m      3\u001b[0m \u001b[0;34m\u001b[0m\u001b[0m\n\u001b[1;32m      4\u001b[0m \u001b[0;34m\u001b[0m\u001b[0m\n\u001b[1;32m      5\u001b[0m \u001b[0mshots\u001b[0m \u001b[0;34m=\u001b[0m \u001b[0;36m8192\u001b[0m           \u001b[0;31m# Number of shots to run the program (experiment); maximum is 8192 shots.\u001b[0m\u001b[0;34m\u001b[0m\u001b[0;34m\u001b[0m\u001b[0m\n",
      "\u001b[0;31mAttributeError\u001b[0m: 'IBMQProvider' object has no attribute 'load_account'"
     ]
    }
   ],
   "source": [
    "#Prepare experiment for a real device\n",
    "\n",
    "# IBMQ.save_account(token)\n",
    "IBMQ.load_account()\n",
    "\n",
    "\n",
    "shots = 8192           # Number of shots to run the program (experiment); maximum is 8192 shots.\n",
    "max_credits = 10       # Maximum number of credits to spend on executions. \n",
    "n_qubits = 3\n",
    "\n",
    "\n",
    "# large_enough_devices = IBMQ.backends(filters=lambda x: x.configuration()['n_qubits'] >= n_qubits and\n",
    "#                                                        not x.configuration()['simulator'])\n",
    "# backend = least_busy(large_enough_devices)\n",
    "backend = IBMQ.backends(name = 'ibmqx2')[0]\n",
    "print(\"The best backend is \" + backend.name())"
   ]
  },
  {
   "cell_type": "code",
   "execution_count": 17,
   "metadata": {
    "scrolled": true
   },
   "outputs": [],
   "source": [
    "# <<<<<<<<<<< EXECUTE on a device >>>>>>>>>>>>>>\n",
    "run = 0  # keep 0 untill you want to run the experiment\n",
    "if run:\n",
    "    job_exp = execute(qc, backend=backend, shots=shots, max_credits=max_credits)\n",
    "    result = job_exp.result()"
   ]
  },
  {
   "cell_type": "code",
   "execution_count": 18,
   "metadata": {},
   "outputs": [
    {
     "data": {
      "image/png": "[encoded data removed]",
      "text/plain": [
       "<Figure size 504x360 with 1 Axes>"
      ]
     },
     "execution_count": 18,
     "metadata": {},
     "output_type": "execute_result"
    }
   ],
   "source": [
    "counts = result.get_counts(qc)\n",
    "plot_histogram(counts)"
   ]
  },
  {
   "cell_type": "code",
   "execution_count": null,
   "metadata": {},
   "outputs": [],
   "source": []
  }
 ],
 "metadata": {
  "kernelspec": {
   "display_name": "Python 3",
   "language": "python",
   "name": "python3"
  },
  "language_info": {
   "codemirror_mode": {
    "name": "ipython",
    "version": 3
   },
   "file_extension": ".py",
   "mimetype": "text/x-python",
   "name": "python",
   "nbconvert_exporter": "python",
   "pygments_lexer": "ipython3",
   "version": "3.6.8"
  }
 },
 "nbformat": 4,
 "nbformat_minor": 2
}
