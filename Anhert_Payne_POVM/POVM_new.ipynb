{
 "cells": [
  {
   "cell_type": "markdown",
   "metadata": {},
   "source": [
    "# How to perform an arbitrary POVM on a quantum (gate based) computer\n",
    "\n",
    "\n"
   ]
  },
  {
   "cell_type": "markdown",
   "metadata": {},
   "source": [
    "#### What is a POVM \n",
    "\n",
    "In quantum mechanics positive operator-valued measures (POVMs) describe the most general form of a quantum measurement. They can be used to distinguish probabilistically between non-orthogonal quantum states and are used in applications like state discrimination, quantum tomography, and qunatum encryption. \n",
    "A POVM is defined as a set of $n$ positive operators $\\{\\hat{E}_i\\}$ that satisfy the completeness relation $ \\sum_{i=1}^{n} \\hat{E}_i = \\hat{I}$, where $\\hat{E}_i = \\hat{M}_i^\\dagger \\hat{M}_i$ and the $\\{\\hat{M}_i\\}$ are measurement operators. Performing a POVM on a system in initial state $|\\psi_0\\rangle$ results in wave function reduction to one of $n$ possible measurement outcomes $|\\psi_0\\rangle \\rightarrow |\\psi_i\\rangle =\\frac{\\hat{M}_i|\\psi_0\\rangle}{\\sqrt{\\langle\\psi_0|\\hat{M}_i^{\\dagger}  \\hat{M}_i|\\psi_0\\rangle}}$, with probability $p_i = \\langle\\psi_0|\\hat{M}_i^{\\dagger}  \\hat{M}_i|\\psi_0\\rangle$ (for more details see Nielsen and Chuang). \n",
    "\n",
    "#### How are POVMs implemented\n",
    "\n",
    "In practice POVMs are either implemented by a physical hardware, specifically tailored for the task, or simulated by quantum gate operations, in some cases involving classical post-processing. \n",
    "A well known way to perform a POVM in a deterministic way, without classical post-processing is using Neumark's theorem. It states that a POVM of $n$-elements, on a target system A, can be performed by introducing an ancilla system B, with Hilbert space spanned by $n$ orthonormal basis states $|i^{(B)}\\rangle$ that are in one-to-one correspondence with the POVM measurement outcomes. A unitary operation $\\hat{U}_{AB}$ is then applied to the joint state of the two systems, such that\n",
    "\\begin{equation}\\label{eq.Uab}\n",
    "\\hat{U}_{AB}|\\psi_0^{(A)}\\rangle|0^{(B)}\\rangle = \\sum_{i=1}^n\\big[\\hat{M}_{i}|\\psi_0^{(A)}\\rangle\\big]|i^{(B)}\\rangle.\n",
    "\\end{equation}\n",
    "By performing a projective measurement on system B, system A collapses to one of the $n$ states $\\hat{M}_i|\\psi^{(A)}_0\\rangle$ that correspond to the outcomes of the POVM.\n",
    "\n",
    "\n",
    "#### Implementing Neumark's method\n",
    "\n",
    "Based on the method, described above, we show how to perform a general $n$-element POVM on a target system consisting of a single qubit, using an ancilla system of $~ \\log_2n$ qubits. To implement $\\hat{U}_{AB}$, we divide it into a sequence of $(n-1)$ quantum gate circuits, which we refer to as modules. Each of these modules, except the first, will perform a general single-qubit $2$-element POVM on one of the POVM outcomes of the preceding module, and entangle the additionally produced outcome to a new state of the ancilla system.\n",
    "\n",
    "In this notebook we will visualize this technique by implementing an example of a $3$-element single-qubit POVM, consisting of just two modules, defined by measurement operators that project on three states separated by $\\frac{2 \\pi}{3} rad$ in the $x-z$ plane of the Bloch sphere of the target qubit:\n",
    "\\begin{equation}\\label{eq:M31}\n",
    "\\hat{M}_1=\\sqrt{\\frac{2}{3}}|0\\rangle\\langle 0|,\n",
    "\\end{equation}\n",
    "\\begin{equation}\\label{eq:M32}\n",
    "\\hat{M}_2=\\frac{1}{\\sqrt{6}}\\frac{|0\\rangle + \\sqrt{3}|1\\rangle}{2}\\frac{\\langle0| + \\sqrt{3}\\langle1|}{2},\n",
    "\\end{equation}\n",
    "\\begin{equation}\\label{eq:M33}\n",
    "\\hat{M}_3=\\frac{1}{\\sqrt{6}}\\frac{|0\\rangle - \\sqrt{3}|1\\rangle}{2}\\frac{\\langle0| - \\sqrt{3}\\langle1|}{2}.\n",
    "\\end{equation}\n",
    "This POVM is a classic example considered in literature that can be used to distinguish between non-orthogonal states (for example $ |1\\rangle$ and $\\frac{\\sqrt{3}|0\\rangle+|1\\rangle}{2} $). "
   ]
  },
  {
   "cell_type": "code",
   "execution_count": 1,
   "metadata": {},
   "outputs": [],
   "source": [
    "# import required libraries\n",
    "\n",
    "from numpy import pi\n",
    "import numpy as np\n",
    "import qiskit\n",
    "from qiskit import QuantumCircuit, ClassicalRegister, QuantumRegister\n",
    "from qiskit import execute\n",
    "from qiskit.tools.visualization import circuit_drawer\n",
    "from qiskit import Aer\n",
    "from qiskit import IBMQ\n",
    "from qiskit.providers.ibmq import least_busy\n",
    "from qiskit.tools.visualization import plot_histogram"
   ]
  },
  {
   "cell_type": "markdown",
   "metadata": {},
   "source": [
    "### Constructing a multi-qubit controlled rotation gate\n",
    "\n",
    "Before we continue with constructing the two modules for our $3$-element POVM, we need a way to construct multi-qubit-controlled rotation gates, which will be required.\n",
    "To carry out a rotation around a single axis of the Bloch sphere of a qubit $q_0$, controlled by qubits $q_1..q_m$, the rotation is decomposed to two rotations with $m-1$ control qubits as\n",
    "\\begin{equation}\n",
    "CR_i(\\theta, q_1..q_m, q_0) =  CNOT(q_1, q_0)CR_i(-\\frac{\\theta}{2}, q_2..q_m, q_0)CNOT(q_1, q_0)CR_i(\\frac{\\theta}{2}, q_2..q_m, q_0)\n",
    "\\end{equation}\n",
    "where $i\\in \\{x,y,z\\}$ and $CR$ stands for controlled-rotation. By decomposing each controlled rotation further, the overall operation can be brought down to $(2^m-2)$ CNOTs and $2m$ one-qubit rotations.\n",
    "\n",
    "In the box below we present a function used to costruct a multi-qubit controlled gate."
   ]
  },
  {
   "cell_type": "code",
   "execution_count": 2,
   "metadata": {},
   "outputs": [],
   "source": [
    "def nCU1(axis, angle, q_circ, ctrls, target):\n",
    "    \"\"\"\n",
    "        Construct a circuit for n-qubit controlled rotation\n",
    "        * axis: axis of rotation (accepts values 'y' and 'z')\n",
    "        * angle: angle of rotation\n",
    "        * q_circ: the quantum circuit to, which the nCU1 operation is added\n",
    "        * ctrls: a List or a quantum register of control qubits.\n",
    "        * target: the target qubit\n",
    "    \"\"\"\n",
    "    n_ctrls = len(ctrls)\n",
    "    list_ctrls = list(ctrls)  \n",
    "    new_ctrls = list_ctrls[:-1]  \n",
    "\n",
    "    if n_ctrls == 1:\n",
    "        \n",
    "        if axis == 'y':\n",
    "            q_circ.u3(angle, 0, 0, target)\n",
    "            q_circ.cx(list_ctrls[0], target)\n",
    "            q_circ.u3(-angle, 0, 0, target)\n",
    "            q_circ.cx(list_ctrls[0], target)\n",
    "            \n",
    "        elif axis == 'z':\n",
    "            q_circ.u3(0,0,angle, target)\n",
    "            q_circ.cx(list_ctrls[0], target)\n",
    "            q_circ.u3(0,0,-angle, target)\n",
    "            q_circ.cx(list_ctrls[0], target)\n",
    "            \n",
    "        else:\n",
    "            raise ValueError('Invalid value for axis!')\n",
    "        \n",
    "    elif n_ctrls >= 2:\n",
    "        \n",
    "        nCU1(axis, angle, q_circ, new_ctrls, target)\n",
    "        q_circ.cx(list_ctrls[-1], target)\n",
    "        nCU1(axis, -angle, q_circ, new_ctrls, target)\n",
    "        q_circ.cx(list_ctrls[-1], target)\n",
    "        \n",
    "    else:\n",
    "\n",
    "        if axis == 'y':\n",
    "            q_circ.u3(angle, 0, 0, target)\n",
    "        elif axis == 'z':\n",
    "            q_circ.u3(0, 0, angle, target)\n",
    "        else:\n",
    "            raise ValueError('Invalid value for axis!')\n",
    "\n",
    "    return 1"
   ]
  },
  {
   "attachments": {
    "2POVM_circuit-1.png": {
     "image/png": "[encoded data removed]"
    }
   },
   "cell_type": "markdown",
   "metadata": {},
   "source": [
    "### Constructing the first 2-element POVM module\n",
    "\n",
    "![2POVM_circuit-1.png](attachment:2POVM_circuit-1.png)\n",
    "\n",
    "Now we proceed to construct the first of the two POVM modules. For this we need to consider one target and one ancilla qubit. For a target qubit in an arbitrary initial state $|\\psi_0 \\rangle = a|0\\rangle + b|1\\rangle$ and an ancilla qubit in $|0\\rangle$ the joint system initial state is $|\\Psi_0 \\rangle = |\\psi_0 \\rangle|0\\rangle $.\n",
    "The module should perform a general $2$-element POVM on the state of the target qubit. This is accomplished with the circuit depicted above, which transforms the system state as\n",
    "\n",
    "\\begin{equation}\\label{eq:2POVM_res}\n",
    "|\\Psi_0 \\rangle \\rightarrow |\\Psi_f\\rangle= \\Big(\\hat{V}_1\\hat{D}_1\\hat{U}|\\psi_0\\rangle\\Big)|0\\rangle + \\Big(\\hat{V}_2\\hat{D}_2\\hat{U} |\\psi_0\\rangle\\Big)|1\\rangle,\n",
    "\\end{equation}\n",
    "where $\\hat{D}_1 = \\cos \\theta_1 |0 \\rangle \\langle 0 | + \\cos \\theta_2 |1 \\rangle \\langle 1 |$ and\n",
    "$\\hat{D}_2 = \\sin \\theta_1 |0 \\rangle \\langle 0 | + \\sin \\theta_2 |1 \\rangle \\langle 1 |$. This state corresponds to the output of a general single-qubit POVM, with measurement operators $ \\hat{M}_1 =\\hat{V}_1 \\hat{D}_1 \\hat{U}$ and $\\hat{M}_2 = \\hat{V}_1 \\hat{D}_2 \\hat{U}$. \n",
    "\n",
    "Below we construct the circuit for the first POVM module."
   ]
  },
  {
   "cell_type": "code",
   "execution_count": 8,
   "metadata": {},
   "outputs": [],
   "source": [
    "def module_1(q_circ, q, u_y=0, u_z=0, theta1=0, theta2=0, v1_y=0, v1_z=0, v2_y=0, v2_z=0):  \n",
    "    \"\"\" Constructs the circuit for the first POVM module\n",
    "        q_circ: a quantun circuit object\n",
    "        q: a register of at least 2 qubits.\n",
    "            q[0] the target qubit \n",
    "            q[1] the ancilla qubit\n",
    "        u_y, u_z, v1_y, v1_z, v2_y, v2_z: y and z rotation angles speciying single-qubit unitaries\n",
    "                                          U, V1 and V2 (a general single-qubit unitary can be expsresed\n",
    "                                          by a combination of an x- and y- rotation)\n",
    "        theta1, theta2: angles specifying y-rotations (see diagram above)\n",
    "    \"\"\"\n",
    "    \n",
    "    # perform U\n",
    "    q_circ.u3(u_y, 0, u_z, q[0])\n",
    "    \n",
    "    # Ry(theta1) (controlled by value 0, hence the two X gates)\n",
    "    q_circ.x(q[0])\n",
    "    nCU1('y', theta1, q_circ,[q[0]],q[1]) \n",
    "    q_circ.x(q[0])\n",
    "    \n",
    "    # Ty(theta2)\n",
    "    nCU1('y', theta2, q_circ,[q[0]],q[1])\n",
    "    \n",
    "    #perform V1\n",
    "    q_circ.x(q[1])\n",
    "    nCU1('y', v1_y, q_circ,[q[1]],q[0]) \n",
    "    nCU1('z', v1_z, q_circ,[q[1]],q[0]) \n",
    "    q_circ.x(q[1])\n",
    "    \n",
    "    #perform V2\n",
    "    nCU1('y', v2_y, q_circ,[q[1]],q[0]) \n",
    "    nCU1('z', v2_z, q_circ,[q[1]],q[0]) \n"
   ]
  },
  {
   "cell_type": "markdown",
   "metadata": {},
   "source": [
    "### Constructing the second 2-element POVM module\n"
   ]
  },
  {
   "cell_type": "code",
   "execution_count": 14,
   "metadata": {},
   "outputs": [],
   "source": [
    "def module_2(q_circ, q, theta1=0, theta2=0, v1_y=0, v1_z=0, v2_y=0, v2_z=0):  \n",
    "    \"\"\" Constructs the circuit for the second POVM module\n",
    "    \"\"\"\n",
    "    \n",
    "    # Ry(theta1)\n",
    "    qc.x(q[0])\n",
    "    nCU1('y', theta1, qc,[q[1], q[0]],q[2])\n",
    "    qc.x(q[0])\n",
    "    \n",
    "    # Ry(theta2)\n",
    "    nCU1('y', theta2,qc ,[q[1], q[0]],q[2])\n",
    "  \n",
    "    #perform V1\n",
    "    q_circ.x(q[2])\n",
    "    nCU1('y', v1_y, q_circ,[q[1], q[2]], q[0]) \n",
    "    nCU1('z', v1_z, q_circ,[q[1], q[2]], q[0]) \n",
    "    q_circ.x(q[2])\n",
    "    \n",
    "    #perform V2\n",
    "    nCU1('y', v2_y, q_circ,[q[1], q[2]], q[0]) \n",
    "    nCU1('z', v2_z, q_circ,[q[1], q[2]], q[0]) "
   ]
  },
  {
   "cell_type": "code",
   "execution_count": 10,
   "metadata": {},
   "outputs": [],
   "source": [
    "# angle parameters for the 1st and 2nd panel\n",
    "theta1 = np.arccos(np.sqrt(2/3))\n",
    "theta2 = pi/2\n",
    "theta3=0\n",
    "theta4 = pi/2\n",
    "\n",
    "# Ui and Uii are implemented as controled rotations as well. \n",
    "# In our example Ui = I, so no action needed\n",
    "# For Uii required y rotation at -pi/2 rads \n",
    "\n",
    "alpha_uii = -pi/2"
   ]
  },
  {
   "cell_type": "code",
   "execution_count": 15,
   "metadata": {},
   "outputs": [],
   "source": [
    "# Create a Quantum Register with 3 qubits.\n",
    "q = QuantumRegister(3, 'q')\n",
    "\n",
    "# Create a Quantum Circuit acting on the q register\n",
    "qc = QuantumCircuit(q)\n",
    "\n",
    "# Apply the 1st \n",
    "module_1(qc,q,theta1=theta1,theta2=theta2, v2_y=alpha_uii)\n",
    "\n",
    "module_2(qc,q, theta2=theta4, v1_y=2*pi/3, v2_y=7*pi/3)"
   ]
  },
  {
   "cell_type": "code",
   "execution_count": 11,
   "metadata": {
    "scrolled": false
   },
   "outputs": [
    {
     "name": "stderr",
     "output_type": "stream",
     "text": [
      "/home/jordan/workspace/qiskit/qiskit_venv/lib/python3.6/site-packages/qiskit/providers/ibmq/ibmqfactory.py:181: UserWarning: Credentials are already in use. The existing account in the session will be replaced.\n",
      "  warnings.warn('Credentials are already in use. The existing '\n"
     ]
    },
    {
     "data": {
      "text/plain": [
       "<AccountProvider for IBMQ(hub='ibm-q', group='open', project='main')>"
      ]
     },
     "execution_count": 11,
     "metadata": {},
     "output_type": "execute_result"
    }
   ],
   "source": [
    "from qiskit import IBMQ\n",
    "# IBMQ.save_account(\"token\")\n",
    "# IBMQ.update_account()\n",
    "IBMQ.load_account()\n",
    "# IBMQ.stored_accounts()"
   ]
  },
  {
   "cell_type": "markdown",
   "metadata": {},
   "source": [
    "At this point we have obtained the desired POVMs $F_1, F_2$ and $F_3$. However they do not completerly define the measurement operators $ M_1, M_2 $ and $ M_3 $. To fully specify the measurements we need to perform $ T_1 , T_2, T_3 $ unitary operations to each of the 3 outputs. \n",
    "\n",
    "In the case of three measurements corresponding to axes $ 120^o$ apart, one of which is along the $z_+$ axis we need to perform the following T operations:\n",
    "\n",
    "(this is wrong)\n",
    "\n",
    "$ T_1 = I = \\left( \\begin{smallmatrix} 1&0\\\\ 0&1 \\end{smallmatrix} \\right)$ , $ T_2 = \\frac{1}{2} \\left( \\begin{smallmatrix} 1& -\\sqrt{3}\\\\ \\sqrt{3}&1 \\end{smallmatrix} \\right)$,  $ T_3 = \\frac{1}{2} \\left( \\begin{smallmatrix} 1& \\sqrt{3}\\\\ -\\sqrt{3}&1 \\end{smallmatrix} \\right)$ \n",
    "\n",
    "To perform this operations we use our n-qubit controled rotation. We perform y-axis rotation at angles $ 0 ,\\frac{2\\pi}{3}, \\frac{-2\\pi}{3} $ respectevely, with control qubits $ { q_1, q_2 } $ and target qubit $ q_0 $. Again we use X gates to tackle the values of the control qubits. \n"
   ]
  },
  {
   "cell_type": "code",
   "execution_count": 16,
   "metadata": {
    "scrolled": true
   },
   "outputs": [
    {
     "data": {
      "text/html": [
       "<pre style=\"word-wrap: normal;white-space: pre;background: #fff0;line-height: 1.1;font-family: &quot;Courier New&quot;,Courier,monospace\">           ┌───────────┐   ┌───┐                                   ┌───┐      »\n",
       "q_0: |0>───┤ U3(0,0,0) ├───┤ X ├──■────────────────────────■───────┤ X ├──────»\n",
       "        ┌──┴───────────┴──┐└───┘┌─┴─┐┌──────────────────┐┌─┴─┐┌────┴───┴─────┐»\n",
       "q_1: |0>┤ U3(0.61548,0,0) ├─────┤ X ├┤ U3(-0.61548,0,0) ├┤ X ├┤ U3(pi/2,0,0) ├»\n",
       "        └──┬───────────┬──┘     └───┘└──────────────────┘└───┘└──────────────┘»\n",
       "q_2: |0>───┤ U3(0,0,0) ├──────────────────────────────────────────────────────»\n",
       "           └───────────┘                                                      »\n",
       " c_0: 0 ══════════════════════════════════════════════════════════════════════»\n",
       "                                                                              »\n",
       " c_1: 0 ══════════════════════════════════════════════════════════════════════»\n",
       "                                                                              »\n",
       " c_2: 0 ══════════════════════════════════════════════════════════════════════»\n",
       "                                                                              »\n",
       "«                                ┌───────────┐┌───┐┌───────────┐┌───┐»\n",
       "«q_0: ──■─────────────────────■──┤ U3(0,0,0) ├┤ X ├┤ U3(0,0,0) ├┤ X ├»\n",
       "«     ┌─┴─┐┌───────────────┐┌─┴─┐└───┬───┬───┘└─┬─┘└───────────┘└─┬─┘»\n",
       "«q_1: ┤ X ├┤ U3(-pi/2,0,0) ├┤ X ├────┤ X ├──────■─────────────────■──»\n",
       "«     └───┘└───────────────┘└───┘    └───┘                           »\n",
       "«q_2: ───────────────────────────────────────────────────────────────»\n",
       "«                                                                    »\n",
       "«c_0: ═══════════════════════════════════════════════════════════════»\n",
       "«                                                                    »\n",
       "«c_1: ═══════════════════════════════════════════════════════════════»\n",
       "«                                                                    »\n",
       "«c_2: ═══════════════════════════════════════════════════════════════»\n",
       "«                                                                    »\n",
       "«     ┌───────────┐┌───┐┌───────────┐┌───┐┌───────────────┐┌───┐»\n",
       "«q_0: ┤ U3(0,0,0) ├┤ X ├┤ U3(0,0,0) ├┤ X ├┤ U3(-pi/2,0,0) ├┤ X ├»\n",
       "«     └───────────┘└─┬─┘└───────────┘└─┬─┘└─────┬───┬─────┘└─┬─┘»\n",
       "«q_1: ───────────────■─────────────────■────────┤ X ├────────■──»\n",
       "«                                               └───┘           »\n",
       "«q_2: ──────────────────────────────────────────────────────────»\n",
       "«                                                               »\n",
       "«c_0: ══════════════════════════════════════════════════════════»\n",
       "«                                                               »\n",
       "«c_1: ══════════════════════════════════════════════════════════»\n",
       "«                                                               »\n",
       "«c_2: ══════════════════════════════════════════════════════════»\n",
       "«                                                               »\n",
       "«     ┌──────────────┐┌───┐┌───────────┐┌───┐┌───────────┐┌───┐┌───┐»\n",
       "«q_0: ┤ U3(pi/2,0,0) ├┤ X ├┤ U3(0,0,0) ├┤ X ├┤ U3(0,0,0) ├┤ X ├┤ X ├»\n",
       "«     └──────────────┘└─┬─┘└───────────┘└─┬─┘└───────────┘└─┬─┘└───┘»\n",
       "«q_1: ──────────────────■─────────────────■─────────────────■────■──»\n",
       "«                                                              ┌─┴─┐»\n",
       "«q_2: ─────────────────────────────────────────────────────────┤ X ├»\n",
       "«                                                              └───┘»\n",
       "«c_0: ══════════════════════════════════════════════════════════════»\n",
       "«                                                                   »\n",
       "«c_1: ══════════════════════════════════════════════════════════════»\n",
       "«                                                                   »\n",
       "«c_2: ══════════════════════════════════════════════════════════════»\n",
       "«                                                                   »\n",
       "«                                                                     »\n",
       "«q_0: ────────────────────■────────────────────────────────────────■──»\n",
       "«                         │                                        │  »\n",
       "«q_1: ───────────────■────┼─────────────────■─────────────────■────┼──»\n",
       "«     ┌───────────┐┌─┴─┐┌─┴─┐┌───────────┐┌─┴─┐┌───────────┐┌─┴─┐┌─┴─┐»\n",
       "«q_2: ┤ U3(0,0,0) ├┤ X ├┤ X ├┤ U3(0,0,0) ├┤ X ├┤ U3(0,0,0) ├┤ X ├┤ X ├»\n",
       "«     └───────────┘└───┘└───┘└───────────┘└───┘└───────────┘└───┘└───┘»\n",
       "«c_0: ════════════════════════════════════════════════════════════════»\n",
       "«                                                                     »\n",
       "«c_1: ════════════════════════════════════════════════════════════════»\n",
       "«                                                                     »\n",
       "«c_2: ════════════════════════════════════════════════════════════════»\n",
       "«                                                                     »\n",
       "«          ┌───┐                                                            »\n",
       "«q_0: ─────┤ X ├───────────────────────────────────■────────────────────────»\n",
       "«          └───┘                                   │                        »\n",
       "«q_1: ──────────────────■─────────────────────■────┼─────────────────────■──»\n",
       "«     ┌──────────────┐┌─┴─┐┌───────────────┐┌─┴─┐┌─┴─┐┌───────────────┐┌─┴─┐»\n",
       "«q_2: ┤ U3(pi/2,0,0) ├┤ X ├┤ U3(-pi/2,0,0) ├┤ X ├┤ X ├┤ U3(-pi/2,0,0) ├┤ X ├»\n",
       "«     └──────────────┘└───┘└───────────────┘└───┘└───┘└───────────────┘└───┘»\n",
       "«c_0: ══════════════════════════════════════════════════════════════════════»\n",
       "«                                                                           »\n",
       "«c_1: ══════════════════════════════════════════════════════════════════════»\n",
       "«                                                                           »\n",
       "«c_2: ══════════════════════════════════════════════════════════════════════»\n",
       "«                                                                           »\n",
       "«                               ┌───────────────┐┌───┐┌────────────────┐┌───┐»\n",
       "«q_0: ───────────────────────■──┤ U3(2pi/3,0,0) ├┤ X ├┤ U3(-2pi/3,0,0) ├┤ X ├»\n",
       "«                            │  └───────────────┘└─┬─┘└────────────────┘└─┬─┘»\n",
       "«q_1: ──────────────────■────┼─────────────────────■──────────────────────■──»\n",
       "«     ┌──────────────┐┌─┴─┐┌─┴─┐      ┌───┐                                  »\n",
       "«q_2: ┤ U3(pi/2,0,0) ├┤ X ├┤ X ├──────┤ X ├──────────────────────────────────»\n",
       "«     └──────────────┘└───┘└───┘      └───┘                                  »\n",
       "«c_0: ═══════════════════════════════════════════════════════════════════════»\n",
       "«                                                                            »\n",
       "«c_1: ═══════════════════════════════════════════════════════════════════════»\n",
       "«                                                                            »\n",
       "«c_2: ═══════════════════════════════════════════════════════════════════════»\n",
       "«                                                                            »\n",
       "«     ┌───┐┌────────────────┐┌───┐┌───────────────┐┌───┐┌───┐┌───────────┐┌───┐»\n",
       "«q_0: ┤ X ├┤ U3(-2pi/3,0,0) ├┤ X ├┤ U3(2pi/3,0,0) ├┤ X ├┤ X ├┤ U3(0,0,0) ├┤ X ├»\n",
       "«     └─┬─┘└────────────────┘└─┬─┘└───────────────┘└─┬─┘└─┬─┘└───────────┘└─┬─┘»\n",
       "«q_1: ──┼──────────────────────■─────────────────────■────┼─────────────────■──»\n",
       "«       │                                                 │                    »\n",
       "«q_2: ──■─────────────────────────────────────────────────■────────────────────»\n",
       "«                                                                              »\n",
       "«c_0: ═════════════════════════════════════════════════════════════════════════»\n",
       "«                                                                              »\n",
       "«c_1: ═════════════════════════════════════════════════════════════════════════»\n",
       "«                                                                              »\n",
       "«c_2: ═════════════════════════════════════════════════════════════════════════»\n",
       "«                                                                              »\n",
       "«     ┌───────────┐┌───┐┌───┐┌───────────┐┌───┐┌───────────┐┌───┐┌───┐»\n",
       "«q_0: ┤ U3(0,0,0) ├┤ X ├┤ X ├┤ U3(0,0,0) ├┤ X ├┤ U3(0,0,0) ├┤ X ├┤ X ├»\n",
       "«     └───────────┘└─┬─┘└─┬─┘└───────────┘└─┬─┘└───────────┘└─┬─┘└─┬─┘»\n",
       "«q_1: ───────────────■────┼─────────────────■─────────────────■────┼──»\n",
       "«                         │                                        │  »\n",
       "«q_2: ────────────────────■────────────────────────────────────────■──»\n",
       "«                                                                     »\n",
       "«c_0: ════════════════════════════════════════════════════════════════»\n",
       "«                                                                     »\n",
       "«c_1: ════════════════════════════════════════════════════════════════»\n",
       "«                                                                     »\n",
       "«c_2: ════════════════════════════════════════════════════════════════»\n",
       "«                                                                     »\n",
       "«     ┌───────────────┐┌───┐┌────────────────┐┌───┐┌───┐┌────────────────┐┌───┐»\n",
       "«q_0: ┤ U3(7pi/3,0,0) ├┤ X ├┤ U3(-7pi/3,0,0) ├┤ X ├┤ X ├┤ U3(-7pi/3,0,0) ├┤ X ├»\n",
       "«     └───────────────┘└─┬─┘└────────────────┘└─┬─┘└─┬─┘└────────────────┘└─┬─┘»\n",
       "«q_1: ───────────────────■──────────────────────■────┼──────────────────────■──»\n",
       "«           ┌───┐                                    │                         »\n",
       "«q_2: ──────┤ X ├────────────────────────────────────■─────────────────────────»\n",
       "«           └───┘                                                              »\n",
       "«c_0: ═════════════════════════════════════════════════════════════════════════»\n",
       "«                                                                              »\n",
       "«c_1: ═════════════════════════════════════════════════════════════════════════»\n",
       "«                                                                              »\n",
       "«c_2: ═════════════════════════════════════════════════════════════════════════»\n",
       "«                                                                              »\n",
       "«     ┌───────────────┐┌───┐┌───┐┌───────────┐┌───┐┌───────────┐┌───┐┌───┐»\n",
       "«q_0: ┤ U3(7pi/3,0,0) ├┤ X ├┤ X ├┤ U3(0,0,0) ├┤ X ├┤ U3(0,0,0) ├┤ X ├┤ X ├»\n",
       "«     └───────────────┘└─┬─┘└─┬─┘└───────────┘└─┬─┘└───────────┘└─┬─┘└─┬─┘»\n",
       "«q_1: ───────────────────■────┼─────────────────■─────────────────■────┼──»\n",
       "«                             │                                        │  »\n",
       "«q_2: ────────────────────────■────────────────────────────────────────■──»\n",
       "«                                                                         »\n",
       "«c_0: ════════════════════════════════════════════════════════════════════»\n",
       "«                                                                         »\n",
       "«c_1: ════════════════════════════════════════════════════════════════════»\n",
       "«                                                                         »\n",
       "«c_2: ════════════════════════════════════════════════════════════════════»\n",
       "«                                                                         »\n",
       "«     ┌───────────┐┌───┐┌───────────┐┌───┐┌───┐ ░ ┌─┐      \n",
       "«q_0: ┤ U3(0,0,0) ├┤ X ├┤ U3(0,0,0) ├┤ X ├┤ X ├─░─┤M├──────\n",
       "«     └───────────┘└─┬─┘└───────────┘└─┬─┘└─┬─┘ ░ └╥┘┌─┐   \n",
       "«q_1: ───────────────■─────────────────■────┼───░──╫─┤M├───\n",
       "«                                           │   ░  ║ └╥┘┌─┐\n",
       "«q_2: ──────────────────────────────────────■───░──╫──╫─┤M├\n",
       "«                                               ░  ║  ║ └╥┘\n",
       "«c_0: ═════════════════════════════════════════════╩══╬══╬═\n",
       "«                                                     ║  ║ \n",
       "«c_1: ════════════════════════════════════════════════╩══╬═\n",
       "«                                                        ║ \n",
       "«c_2: ═══════════════════════════════════════════════════╩═\n",
       "«                                                          </pre>"
      ],
      "text/plain": [
       "<qiskit.visualization.text.TextDrawing at 0x7fb871b31e80>"
      ]
     },
     "execution_count": 16,
     "metadata": {},
     "output_type": "execute_result"
    }
   ],
   "source": [
    "# Add Measurements\n",
    "\n",
    "# Create a Classical Register with 3 bits.\n",
    "c = ClassicalRegister(3, 'c')\n",
    "# Create a Quantum Circuit\n",
    "meas = QuantumCircuit(q, c)\n",
    "meas.barrier(q)\n",
    "# map the quantum measurement to the classical bits\n",
    "meas.measure(q,c)\n",
    "\n",
    "# The Qiskit circuit object supports composition using\n",
    "# the addition operator.\n",
    "qc = qc+meas\n",
    "\n",
    "circuit_drawer(qc)"
   ]
  },
  {
   "cell_type": "code",
   "execution_count": 17,
   "metadata": {},
   "outputs": [
    {
     "data": {
      "image/png": "[encoded data removed]",
      "text/plain": [
       "<Figure size 504x360 with 1 Axes>"
      ]
     },
     "execution_count": 17,
     "metadata": {},
     "output_type": "execute_result"
    }
   ],
   "source": [
    "# Run the quantum circuit on a simulator backend\n",
    "backend = Aer.get_backend('qasm_simulator')\n",
    "shots = 8192\n",
    "\n",
    "# Create a Quantum Program for execution \n",
    "job = execute(qc, backend, shots = shots)\n",
    "\n",
    "# execute\n",
    "result = job.result()\n",
    "\n",
    "counts = result.get_counts(qc)\n",
    "plot_histogram(counts)"
   ]
  },
  {
   "cell_type": "code",
   "execution_count": 16,
   "metadata": {
    "scrolled": true
   },
   "outputs": [
    {
     "name": "stderr",
     "output_type": "stream",
     "text": [
      "/home/jordan/workspace/qiskit/qiskit_venv/lib/python3.6/site-packages/qiskit/providers/ibmq/ibmqfactory.py:547: DeprecationWarning: IBMQ.backends() is being deprecated. Please use IBMQ.get_provider() to retrieve a provider and AccountProvider.backends() to find its backends.\n",
      "  DeprecationWarning)\n"
     ]
    },
    {
     "name": "stdout",
     "output_type": "stream",
     "text": [
      "The best backend is ibmqx2\n"
     ]
    }
   ],
   "source": [
    "# IBMQ.save_account(token)\n",
    "IBMQ.load_account()\n",
    "\n",
    "\n",
    "shots = 8192           # Number of shots to run the program (experiment); maximum is 8192 shots.\n",
    "max_credits = 10       # Maximum number of credits to spend on executions. \n",
    "n_qubits = 3\n",
    "\n",
    "\n",
    "# large_enough_devices = IBMQ.backends(filters=lambda x: x.configuration()['n_qubits'] >= n_qubits and\n",
    "#                                                        not x.configuration()['simulator'])\n",
    "# backend = least_busy(large_enough_devices)\n",
    "backend = IBMQ.backends(name = 'ibmqx2')[0]\n",
    "print(\"The best backend is \" + backend.name())"
   ]
  },
  {
   "cell_type": "code",
   "execution_count": 17,
   "metadata": {
    "scrolled": true
   },
   "outputs": [],
   "source": [
    "# Hello there\n",
    "# <<<<<<<<<<< EXECUTING real experiment >>>>>>>>>>>>>>\n",
    "run = 1  # keep 0 untill you want to run the experiment, to avoid running by mistake. It is slow and cost credits!\n",
    "if run:\n",
    "    job_exp = execute(qc, backend=backend, shots=shots, max_credits=max_credits)\n",
    "    result = job_exp.result()"
   ]
  },
  {
   "cell_type": "code",
   "execution_count": 18,
   "metadata": {},
   "outputs": [
    {
     "data": {
      "image/png": "[encoded data removed]",
      "text/plain": [
       "<Figure size 504x360 with 1 Axes>"
      ]
     },
     "execution_count": 18,
     "metadata": {},
     "output_type": "execute_result"
    }
   ],
   "source": [
    "counts = result.get_counts(qc)\n",
    "plot_histogram(counts)"
   ]
  },
  {
   "cell_type": "code",
   "execution_count": 12,
   "metadata": {},
   "outputs": [
    {
     "data": {
      "image/png": "[encoded data removed]",
      "text/plain": [
       "<Figure size 504x360 with 1 Axes>"
      ]
     },
     "execution_count": 12,
     "metadata": {},
     "output_type": "execute_result"
    }
   ],
   "source": [
    "#ibmqx2"
   ]
  },
  {
   "cell_type": "code",
   "execution_count": null,
   "metadata": {},
   "outputs": [],
   "source": []
  }
 ],
 "metadata": {
  "kernelspec": {
   "display_name": "Python 3",
   "language": "python",
   "name": "python3"
  },
  "language_info": {
   "codemirror_mode": {
    "name": "ipython",
    "version": 3
   },
   "file_extension": ".py",
   "mimetype": "text/x-python",
   "name": "python",
   "nbconvert_exporter": "python",
   "pygments_lexer": "ipython3",
   "version": "3.7.3"
  }
 },
 "nbformat": 4,
 "nbformat_minor": 2
}
