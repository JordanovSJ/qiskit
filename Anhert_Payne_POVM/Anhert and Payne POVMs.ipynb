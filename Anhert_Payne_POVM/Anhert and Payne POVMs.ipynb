{
 "cells": [
  {
   "cell_type": "markdown",
   "metadata": {},
   "source": [
    "# Implementing the Ahnert and Payne scheme for a general 1-qubit  POVM on qiskit.\n",
    "\n"
   ]
  },
  {
   "cell_type": "markdown",
   "metadata": {},
   "source": [
    "## Introduction\n",
    "\n",
    "#### What is a POVM and why it is important\n",
    "TODO\n",
    "\n",
    "#### ![Image of Yaktocat](https://images.app.goo.gl/63jQGHABWWSaokmS8)\n",
    "\n",
    "#### Implementation, general idea\n",
    "TODO"
   ]
  },
  {
   "cell_type": "code",
   "execution_count": 1,
   "metadata": {},
   "outputs": [],
   "source": [
    "from numpy import pi\n",
    "import numpy as np\n",
    "\n",
    "import qiskit\n",
    "from qiskit import QuantumCircuit, ClassicalRegister, QuantumRegister\n",
    "from qiskit import execute\n",
    "from qiskit.tools.visualization import circuit_drawer\n",
    "from qiskit import Aer\n",
    "from qiskit import IBMQ\n",
    "from qiskit.providers.ibmq import least_busy\n",
    "from qiskit.tools.visualization import plot_histogram\n"
   ]
  },
  {
   "cell_type": "markdown",
   "metadata": {},
   "source": [
    "### Constructing a doubly controlled rotation gate\n",
    "\n",
    "Before start constructing the Ahnert Payne POVM, we will create a quantum circuit performing a doubly controlled rotation on the target qubit, if the two control qubits are $ |1 \\rangle$. The allowed rotations will be either z-only or y-only, unlike the qiskit u3() operation, which can perform general multi-axial rotation. However performing combinations of doubly-controlled z- and y-rotationns, we will be able to perform any doubly-controlled operation. We will need this operation when performing the t-branches operations.\n",
    "\n",
    "Given a rotation axis $ i \\in \\{y,z\\}$, angle $\\theta$, control qubit $ q_{ctrl1}$ and $q_{ctrl2}$ and target qubit $  q_{target}$ we perform:\n",
    "$ doubleCU1(i, \\theta, q_{ctrl1}, q_{ctrl2}, q_{target}) =  C_{cx}(q_{ctrl1}, q_{ctrl2}, q_{target}) R_{i}( - \\frac{\\theta}{2}) C_{cx}(q_{ctrl1}, q_{ctrl2}, q_{target}) R_{i}(\\frac{\\theta}{2}) $   \n",
    "where $C_{cx} $ is the Toffoli gate. \n",
    "\n",
    "The reasoning being, that if the two control bits are $ |1 \\rangle$, the two Toffoli gate will effectively \"flip\" the sign of the $-\\frac{\\theta}{2}$ rotation hence it will add up the the first $\\frac{\\theta}{2}$ rotation, resulting in a total rotation of $ \\theta $. Conversely if any of the control bits is not $ |1 \\rangle$, the sign of the second rotation will not be flipped and both rotations will cancel out.  Note that this true only if perform single axis rotation."
   ]
  },
  {
   "cell_type": "code",
   "execution_count": 2,
   "metadata": {},
   "outputs": [],
   "source": [
    "# n-qubit control rotation gate\n",
    "\n",
    "def nCU1(axis, angle, q_circ, ctrls, target):\n",
    "    \"\"\"\n",
    "        Implements n-qubit controlled rotation (nCU1 )\n",
    "        The rotation is single axial (unlike the qiskit multi axial rotation u3),\n",
    "        Parameters:\n",
    "        * axis: specifies the rotation, acceptable char values 'y' and 'z'\n",
    "        (note: y and z rotation can be combined to implement any single qubit\n",
    "        unitary operation)\n",
    "        * angle: Bloch sphere angle specifying the rotation\n",
    "        * q_circ: the quantum circuit to, which the nCU1 operation is added\n",
    "        * ctrls: a list or quantum register of the control qubits.\n",
    "        * target: the target qubit\n",
    "    \"\"\"\n",
    "    n_ctrls = len(ctrls)\n",
    "    list_ctrls = list(ctrls)  # a list of the qubits is easier to work with, than the QuantumRegister object\n",
    "    new_ctrls = list_ctrls[:-1]  # take all control qubits references but the last one\n",
    "\n",
    "    if n_ctrls >= 2:\n",
    "\n",
    "        nCU1(axis, angle/2, q_circ, new_ctrls, target)\n",
    "        q_circ.cx(list_ctrls[-1], target)\n",
    "        nCU1(axis, -angle / 2, q_circ, new_ctrls, target)\n",
    "        q_circ.cx(list_ctrls[-1], target)\n",
    "    elif n_ctrls == 1:\n",
    "\n",
    "        if axis == 'y':\n",
    "#             q_circ.cu3(angle, 0, 0, list_ctrls[0], target)\n",
    "            q_circ.u3(angle/2, 0, 0, target)\n",
    "            q_circ.cx(list_ctrls[0], target)\n",
    "            q_circ.u3(-angle/2, 0, 0, target)\n",
    "            q_circ.cx(list_ctrls[0], target)\n",
    "            \n",
    "        elif axis == 'z':\n",
    "#             q_circ.cu3(0, 0, angle, list_ctrls[0], target)\n",
    "            q_circ.u3(0,0,angle/2, target)\n",
    "            q_circ.cx(list_ctrls[0], target)\n",
    "            q_circ.u3(0,0,-angle/2, target)\n",
    "            q_circ.cx(list_ctrls[0], target)\n",
    "            \n",
    "        else:\n",
    "            raise ValueError('Invalid value for axis!')\n",
    "    else:\n",
    "\n",
    "        if axis == 'y':\n",
    "            q_circ.u3(angle, 0, 0, target)\n",
    "        elif axis == 'z':\n",
    "            q_circ.u3(0, 0, angle, target)\n",
    "        else:\n",
    "            raise ValueError('Invalid value for axis!')\n",
    "\n",
    "    return 1"
   ]
  },
  {
   "cell_type": "markdown",
   "metadata": {},
   "source": [
    "### Construct a 2-element POVM module"
   ]
  },
  {
   "cell_type": "code",
   "execution_count": 3,
   "metadata": {},
   "outputs": [],
   "source": [
    "def first_AP_module_new(qc, q, tita1, tita2):  # \"theta\" not \"tita\"\n",
    "    \"\"\" Implements a first module of Ahenrt Payne POVM.\n",
    "\n",
    "        qc: existing q-circuit\n",
    "\n",
    "        q: is a register of at least 3 qubit objects.\n",
    "        q[0] represents the state being measured \n",
    "        q[1] is ancilla qubit, used to represent the output branches. It should be in the zero state\n",
    "        \n",
    "        The POVM outputs correspond to the following values of q1:\n",
    "            branch p1: 0\n",
    "            branch p2: 1\n",
    "\n",
    "        theta1 and theta2 specify POVMs 1 and 2(see above)\n",
    "        (future version will allow for phase operations, specified by phi1 and phi2)\n",
    "    \"\"\"\n",
    "\n",
    "    # Apply the rotations along p1 and p2\n",
    "\n",
    "    # controlled rotation if qubit 0 is ZERO\n",
    "    qc.x(q[0])\n",
    "    nCU1('y', 2*tita1, qc,[q[0]],q[1]) \n",
    "    qc.x(q[0])\n",
    "#     qc.barrier(q)\n",
    "\n",
    "    # controlled rotation if qubit 0 is ONE\n",
    "    nCU1('y', 2*tita2, qc,[q[0]],q[1])\n",
    "#     qc.barrier(q)\n"
   ]
  },
  {
   "cell_type": "markdown",
   "metadata": {},
   "source": [
    "## Assemble a circuit for a 2-element POVM"
   ]
  },
  {
   "cell_type": "code",
   "execution_count": 4,
   "metadata": {
    "scrolled": false
   },
   "outputs": [
    {
     "data": {
      "text/html": [
       "<pre style=\"word-wrap: normal;white-space: pre;background: #fff0;line-height: 1.1;font-family: &quot;Courier New&quot;,Courier,monospace\">        ┌───────────────┐┌───┐                                ┌───┐           »\n",
       "q_0: |0>┤ U3(2pi/3,0,0) ├┤ X ├──■─────────────────────■───────┤ X ├────────■──»\n",
       "        └┬──────────────┤└───┘┌─┴─┐┌───────────────┐┌─┴─┐┌────┴───┴─────┐┌─┴─┐»\n",
       "q_1: |0>─┤ U3(pi/4,0,0) ├─────┤ X ├┤ U3(-pi/4,0,0) ├┤ X ├┤ U3(pi/4,0,0) ├┤ X ├»\n",
       "         └──────────────┘     └───┘└───────────────┘└───┘└──────────────┘└───┘»\n",
       " c_0: 0 ══════════════════════════════════════════════════════════════════════»\n",
       "                                                                              »\n",
       " c_1: 0 ══════════════════════════════════════════════════════════════════════»\n",
       "                                                                              »\n",
       "«                           ┌─┐   \n",
       "«q_0: ───────────────────■──┤M├───\n",
       "«     ┌───────────────┐┌─┴─┐└╥┘┌─┐\n",
       "«q_1: ┤ U3(-pi/4,0,0) ├┤ X ├─╫─┤M├\n",
       "«     └───────────────┘└───┘ ║ └╥┘\n",
       "«c_0: ═══════════════════════╩══╬═\n",
       "«                               ║ \n",
       "«c_1: ══════════════════════════╩═\n",
       "«                                 </pre>"
      ],
      "text/plain": [
       "<qiskit.visualization.text.TextDrawing at 0x7f1871dc24e0>"
      ]
     },
     "execution_count": 4,
     "metadata": {},
     "output_type": "execute_result"
    }
   ],
   "source": [
    "q = QuantumRegister(2, 'q')\n",
    "\n",
    "# Create a Quantum Circuit acting on the q register\n",
    "qc = QuantumCircuit(q)\n",
    "\n",
    "# prepare the input state (the input state will be represented by qubit 0)\n",
    "qc.u3(pi*2/3, 0 ,0, q[0])\n",
    "\n",
    "# Apply the POVM\n",
    "first_AP_module_new(qc,q,pi/4,pi/4)\n",
    "\n",
    "# Add Measurements\n",
    "\n",
    "# Create a Classical Register with 3 bits.\n",
    "c = ClassicalRegister(2, 'c')\n",
    "# Create a Quantum Circuit\n",
    "meas = QuantumCircuit(q, c)\n",
    "\n",
    "# map the quantum measurement to the classical bits\n",
    "meas.measure(q,c)\n",
    "\n",
    "qc = qc+meas\n",
    "\n",
    "circuit_drawer(qc)\n"
   ]
  },
  {
   "cell_type": "markdown",
   "metadata": {},
   "source": [
    "### Run a simulation"
   ]
  },
  {
   "cell_type": "code",
   "execution_count": 5,
   "metadata": {
    "scrolled": false
   },
   "outputs": [
    {
     "data": {
      "image/png": "[encoded data removed]",
      "text/plain": [
       "<Figure size 504x360 with 1 Axes>"
      ]
     },
     "execution_count": 5,
     "metadata": {},
     "output_type": "execute_result"
    }
   ],
   "source": [
    "# Run the quantum circuit on a simulator backend\n",
    "backend = Aer.get_backend('qasm_simulator')\n",
    "shots = 8096\n",
    "\n",
    "# Create a Quantum Program for execution \n",
    "job = execute(qc, backend, shots = shots)\n",
    "\n",
    "# execute\n",
    "result = job.result()\n",
    "\n",
    "counts = result.get_counts(qc)\n",
    "plot_histogram(counts)"
   ]
  },
  {
   "cell_type": "markdown",
   "metadata": {},
   "source": [
    "### Run on a real device"
   ]
  },
  {
   "cell_type": "code",
   "execution_count": 11,
   "metadata": {
    "scrolled": false
   },
   "outputs": [
    {
     "name": "stderr",
     "output_type": "stream",
     "text": [
      "/home/jordan/workspace/qiskit/qiskit_venv/lib/python3.6/site-packages/qiskit/providers/ibmq/ibmqfactory.py:181: UserWarning: Credentials are already in use. The existing account in the session will be replaced.\n",
      "  warnings.warn('Credentials are already in use. The existing '\n"
     ]
    },
    {
     "data": {
      "text/plain": [
       "<AccountProvider for IBMQ(hub='ibm-q', group='open', project='main')>"
      ]
     },
     "execution_count": 11,
     "metadata": {},
     "output_type": "execute_result"
    }
   ],
   "source": [
    "from qiskit import IBMQ\n",
    "# IBMQ.save_account(\"token\")\n",
    "# IBMQ.update_account()\n",
    "IBMQ.load_account()\n",
    "# IBMQ.stored_accounts()"
   ]
  },
  {
   "cell_type": "code",
   "execution_count": 14,
   "metadata": {
    "scrolled": true
   },
   "outputs": [
    {
     "data": {
      "text/plain": [
       "<IBMQBackend('ibmq_ourense') from IBMQ(hub='ibm-q', group='open', project='main')>"
      ]
     },
     "execution_count": 14,
     "metadata": {},
     "output_type": "execute_result"
    }
   ],
   "source": [
    "q_circshots = 8192           # Number of shots to run the program (experiment); maximum is 8192 shots.\n",
    "max_credits = 10       # Maximum number of credits to spend on executions. \n",
    "n_qubits = 3\n",
    "\n",
    "provider = IBMQ.get_provider(hub='ibm-q')\n",
    "backend = provider.get_backend('ibmq_ourense') # choose which device; see IBMQ website for names and availability\n",
    "\n",
    "print(backend)"
   ]
  },
  {
   "cell_type": "code",
   "execution_count": 15,
   "metadata": {
    "scrolled": true
   },
   "outputs": [],
   "source": [
    "# <<<<<<<<<<< EXECUTING real experiment >>>>>>>>>>>>>>\n",
    "run = 1  # keep 0 untill you want to run the experiment, to avoid running by mistake. It is slow and cost credits!\n",
    "if run:\n",
    "    job_exp = execute(qc, backend=backend, shots=shots, max_credits=max_credits)\n",
    "    result = job_exp.result()"
   ]
  },
  {
   "cell_type": "code",
   "execution_count": null,
   "metadata": {},
   "outputs": [],
   "source": [
    "counts = result.get_counts(qc)\n",
    "plot_histogram(counts)"
   ]
  },
  {
   "cell_type": "code",
   "execution_count": 9,
   "metadata": {},
   "outputs": [
    {
     "data": {
      "image/png": "[encoded data removed]",
      "text/plain": [
       "<Figure size 504x360 with 1 Axes>"
      ]
     },
     "execution_count": 9,
     "metadata": {},
     "output_type": "execute_result"
    }
   ],
   "source": [
    "# ibmqx2"
   ]
  },
  {
   "cell_type": "code",
   "execution_count": 16,
   "metadata": {},
   "outputs": [
    {
     "data": {
      "image/png": "[encoded data removed]",
      "text/plain": [
       "<Figure size 504x360 with 1 Axes>"
      ]
     },
     "execution_count": 16,
     "metadata": {},
     "output_type": "execute_result"
    }
   ],
   "source": [
    "# ibmq_ourense"
   ]
  },
  {
   "cell_type": "code",
   "execution_count": 79,
   "metadata": {
    "scrolled": true
   },
   "outputs": [
    {
     "data": {
      "image/png": "[encoded data removed]",
      "text/plain": [
       "<Figure size 504x360 with 1 Axes>"
      ]
     },
     "execution_count": 79,
     "metadata": {},
     "output_type": "execute_result"
    }
   ],
   "source": [
    "# ibmq_ourense"
   ]
  },
  {
   "cell_type": "markdown",
   "metadata": {},
   "source": [
    "### 3 Part POVM\n",
    "\n",
    "#### Example\n",
    "Here we implement a 3-element POVM with projective measurement operators, projecting at three states in the x-z Block plane, separated by $120^o$. This a common example from literature used to illustrate how POVMs can be used in distinguishing non-orthogonal states.\n",
    "\n",
    "#### Implementation\n",
    "TODO: explain ... give reference to the citation\n"
   ]
  },
  {
   "cell_type": "code",
   "execution_count": 4,
   "metadata": {},
   "outputs": [],
   "source": [
    "def second_AP_module_new(qc, q, tita3, tita4):\n",
    "    \"\"\" Implements a second module of Ahenrt Payne POVM.\n",
    "\n",
    "        qc: existing q-circuit\n",
    "\n",
    "        q: is a register of at least 4 qubit objects.\n",
    "        q[0] represents the state being measured \n",
    "        q[1], q[2] are ancilla qubits, used to represent the output branches. They should be in the zero state\n",
    "        q[3], is another ancilla qubit, required for intermidiate operations. It should be in zero state too\n",
    "        \n",
    "        The outputs (branches) correspond to the following values of q1q2:\n",
    "            branch p1: 00\n",
    "            branch p2: 10\n",
    "            branch p3: 11\n",
    "\n",
    "        tita3 and tita4 specify POVMs 3 and 4(see above)\n",
    "        (future version will allow for phase operations, specified by phi2 and phi3)\n",
    "    \"\"\"\n",
    "\n",
    "    # Apply the rotations along p1' and p2'\n",
    "\n",
    "    # Rotation along p1' branch\n",
    "    qc.x(q[0])\n",
    "    nCU1('y', 2*tita3, qc,[q[1], q[0]],q[2])\n",
    "    qc.x(q[0])\n",
    "\n",
    "    # rotation along p2' branch\n",
    "    nCU1('y', 2*tita4,qc ,[q[1], q[0]],q[2])\n"
   ]
  },
  {
   "cell_type": "markdown",
   "metadata": {},
   "source": [
    "\n",
    "#### Example:\n",
    "\n",
    "As an example we implement the popular case of nonorthogonal 3 part POVM along axes separated by $ 120^o $ in the $ xz $ plane of the Block sphere. "
   ]
  },
  {
   "cell_type": "code",
   "execution_count": 5,
   "metadata": {},
   "outputs": [],
   "source": [
    "# angle parameters for the 1st and 2nd panel\n",
    "tita1 = np.arccos(np.sqrt(2/3))\n",
    "tita2 = pi/2\n",
    "tita3 = 0\n",
    "tita4 = pi/2\n",
    "\n",
    "# Ui and Uii are implemented as controled rotations as well. \n",
    "# In our example Ui = I, so no action needed\n",
    "# For Uii required y rotation at -pi/2 rads \n",
    "\n",
    "alpha_ui = 0\n",
    "alpha_uii = -pi/2"
   ]
  },
  {
   "cell_type": "code",
   "execution_count": 6,
   "metadata": {},
   "outputs": [],
   "source": [
    "# Create a Quantum Register with 4 qubits.\n",
    "q = QuantumRegister(3, 'q')\n",
    "\n",
    "# Create a Quantum Circuit acting on the q register\n",
    "qc = QuantumCircuit(q)\n",
    "\n",
    "# qc.u3(0, 0, 0, q[0])  # INITIAL STATE!\n",
    "\n",
    "# Apply Ui\n",
    "# qc.u3(alpha_ui, 0, 0, q[0])  # for the sake of clarity\n",
    "\n",
    "# Apply the 1st AnP panel\n",
    "first_AP_module_new(qc,q,tita1,tita2)\n",
    "    \n",
    "# Apply Uii, require a single qubit controled rotation \n",
    "nCU1('y', alpha_uii, qc, [q[1]], q[0])     \n",
    "\n",
    "# Apply 2nd Ahnert Payne POVM module\n",
    "second_AP_module_new(qc, q, tita3, tita4)\n",
    "\n",
    "\n"
   ]
  },
  {
   "cell_type": "markdown",
   "metadata": {},
   "source": [
    "At this point we have obtained the desired POVMs $F_1, F_2$ and $F_3$. However they do not completerly define the measurement operators $ M_1, M_2 $ and $ M_3 $. To fully specify the measurements we need to perform $ T_1 , T_2, T_3 $ unitary operations to each of the 3 outputs. \n",
    "\n",
    "In the case of three measurements corresponding to axes $ 120^o$ apart, one of which is along the $z_+$ axis we need to perform the following T operations:\n",
    "\n",
    "(this is wrong)\n",
    "\n",
    "$ T_1 = I = \\left( \\begin{smallmatrix} 1&0\\\\ 0&1 \\end{smallmatrix} \\right)$ , $ T_2 = \\frac{1}{2} \\left( \\begin{smallmatrix} 1& -\\sqrt{3}\\\\ \\sqrt{3}&1 \\end{smallmatrix} \\right)$,  $ T_3 = \\frac{1}{2} \\left( \\begin{smallmatrix} 1& \\sqrt{3}\\\\ -\\sqrt{3}&1 \\end{smallmatrix} \\right)$ \n",
    "\n",
    "To perform this operations we use our n-qubit controled rotation. We perform y-axis rotation at angles $ 0 ,\\frac{2\\pi}{3}, \\frac{-2\\pi}{3} $ respectevely, with control qubits $ { q_1, q_2 } $ and target qubit $ q_0 $. Again we use X gates to tackle the values of the control qubits. \n"
   ]
  },
  {
   "cell_type": "code",
   "execution_count": 7,
   "metadata": {},
   "outputs": [
    {
     "data": {
      "text/plain": [
       "<qiskit.circuit.instructionset.InstructionSet at 0x7f2b92478668>"
      ]
     },
     "execution_count": 7,
     "metadata": {},
     "output_type": "execute_result"
    }
   ],
   "source": [
    "# perform T2 on p2 branch, correspond to 10 value of q1q2\n",
    "qc.x(q[2])\n",
    "# nCU1('y', 2*pi/3, qc, [q[1], q[2]], q[0] )\n",
    "nCU1('y', 2*pi/3, qc, [q[1], q[2]], q[0] )\n",
    "qc.x(q[2])\n",
    "\n",
    "# perform T3 on p3 branch, correspond to 11 value of q1q2\n",
    "# nCU1('y', -2*pi/3, qc, [q[1], q[2]], q[0] )  # changee???\n",
    "nCU1('y', 7*pi/3, qc, [q[1], q[2]], q[0] )\n",
    "\n",
    "# 11->01\n",
    "qc.cx(q[2],q[1])\n"
   ]
  },
  {
   "cell_type": "code",
   "execution_count": 8,
   "metadata": {
    "scrolled": true
   },
   "outputs": [
    {
     "data": {
      "text/html": [
       "<pre style=\"word-wrap: normal;white-space: pre;background: #fff0;line-height: 1.1;font-family: &quot;Courier New&quot;,Courier,monospace\">               ┌───┐                                          ┌───┐           »\n",
       "q_0: |0>───────┤ X ├─────────■────────────────────────■───────┤ X ├────────■──»\n",
       "        ┌──────┴───┴──────┐┌─┴─┐┌──────────────────┐┌─┴─┐┌────┴───┴─────┐┌─┴─┐»\n",
       "q_1: |0>┤ U3(0.61548,0,0) ├┤ X ├┤ U3(-0.61548,0,0) ├┤ X ├┤ U3(pi/2,0,0) ├┤ X ├»\n",
       "        └──┬───────────┬──┘└───┘└──────────────────┘└───┘└──────────────┘└───┘»\n",
       "q_2: |0>───┤ U3(0,0,0) ├──────────────────────────────────────────────────────»\n",
       "           └───────────┘                                                      »\n",
       " c_0: 0 ══════════════════════════════════════════════════════════════════════»\n",
       "                                                                              »\n",
       " c_1: 0 ══════════════════════════════════════════════════════════════════════»\n",
       "                                                                              »\n",
       " c_2: 0 ══════════════════════════════════════════════════════════════════════»\n",
       "                                                                              »\n",
       "«                           ┌───────────────┐┌───┐┌──────────────┐┌───┐┌───┐»\n",
       "«q_0: ───────────────────■──┤ U3(-pi/4,0,0) ├┤ X ├┤ U3(pi/4,0,0) ├┤ X ├┤ X ├»\n",
       "«     ┌───────────────┐┌─┴─┐└───────────────┘└─┬─┘└──────────────┘└─┬─┘└───┘»\n",
       "«q_1: ┤ U3(-pi/2,0,0) ├┤ X ├───────────────────■────────────────────■────■──»\n",
       "«     └───────────────┘└───┘                                           ┌─┴─┐»\n",
       "«q_2: ─────────────────────────────────────────────────────────────────┤ X ├»\n",
       "«                                                                      └───┘»\n",
       "«c_0: ══════════════════════════════════════════════════════════════════════»\n",
       "«                                                                           »\n",
       "«c_1: ══════════════════════════════════════════════════════════════════════»\n",
       "«                                                                           »\n",
       "«c_2: ══════════════════════════════════════════════════════════════════════»\n",
       "«                                                                           »\n",
       "«                                                                     »\n",
       "«q_0: ────────────────────■────────────────────────────────────────■──»\n",
       "«                         │                                        │  »\n",
       "«q_1: ───────────────■────┼─────────────────■─────────────────■────┼──»\n",
       "«     ┌───────────┐┌─┴─┐┌─┴─┐┌───────────┐┌─┴─┐┌───────────┐┌─┴─┐┌─┴─┐»\n",
       "«q_2: ┤ U3(0,0,0) ├┤ X ├┤ X ├┤ U3(0,0,0) ├┤ X ├┤ U3(0,0,0) ├┤ X ├┤ X ├»\n",
       "«     └───────────┘└───┘└───┘└───────────┘└───┘└───────────┘└───┘└───┘»\n",
       "«c_0: ════════════════════════════════════════════════════════════════»\n",
       "«                                                                     »\n",
       "«c_1: ════════════════════════════════════════════════════════════════»\n",
       "«                                                                     »\n",
       "«c_2: ════════════════════════════════════════════════════════════════»\n",
       "«                                                                     »\n",
       "«          ┌───┐                                                            »\n",
       "«q_0: ─────┤ X ├───────────────────────────────────■────────────────────────»\n",
       "«          └───┘                                   │                        »\n",
       "«q_1: ──────────────────■─────────────────────■────┼─────────────────────■──»\n",
       "«     ┌──────────────┐┌─┴─┐┌───────────────┐┌─┴─┐┌─┴─┐┌───────────────┐┌─┴─┐»\n",
       "«q_2: ┤ U3(pi/4,0,0) ├┤ X ├┤ U3(-pi/4,0,0) ├┤ X ├┤ X ├┤ U3(-pi/4,0,0) ├┤ X ├»\n",
       "«     └──────────────┘└───┘└───────────────┘└───┘└───┘└───────────────┘└───┘»\n",
       "«c_0: ══════════════════════════════════════════════════════════════════════»\n",
       "«                                                                           »\n",
       "«c_1: ══════════════════════════════════════════════════════════════════════»\n",
       "«                                                                           »\n",
       "«c_2: ══════════════════════════════════════════════════════════════════════»\n",
       "«                                                                           »\n",
       "«                               ┌──────────────┐┌───┐┌───────────────┐┌───┐»\n",
       "«q_0: ───────────────────────■──┤ U3(pi/6,0,0) ├┤ X ├┤ U3(-pi/6,0,0) ├┤ X ├»\n",
       "«                            │  └──────────────┘└─┬─┘└───────────────┘└─┬─┘»\n",
       "«q_1: ──────────────────■────┼────────────────────■─────────────────────■──»\n",
       "«     ┌──────────────┐┌─┴─┐┌─┴─┐     ┌───┐                                 »\n",
       "«q_2: ┤ U3(pi/4,0,0) ├┤ X ├┤ X ├─────┤ X ├─────────────────────────────────»\n",
       "«     └──────────────┘└───┘└───┘     └───┘                                 »\n",
       "«c_0: ═════════════════════════════════════════════════════════════════════»\n",
       "«                                                                          »\n",
       "«c_1: ═════════════════════════════════════════════════════════════════════»\n",
       "«                                                                          »\n",
       "«c_2: ═════════════════════════════════════════════════════════════════════»\n",
       "«                                                                          »\n",
       "«     ┌───┐┌───────────────┐┌───┐┌──────────────┐┌───┐┌───┐┌────────────────┐»\n",
       "«q_0: ┤ X ├┤ U3(-pi/6,0,0) ├┤ X ├┤ U3(pi/6,0,0) ├┤ X ├┤ X ├┤ U3(1.8326,0,0) ├»\n",
       "«     └─┬─┘└───────────────┘└─┬─┘└──────────────┘└─┬─┘└─┬─┘└────────────────┘»\n",
       "«q_1: ──┼─────────────────────■────────────────────■────┼────────────────────»\n",
       "«       │                                               │        ┌───┐       »\n",
       "«q_2: ──■───────────────────────────────────────────────■────────┤ X ├───────»\n",
       "«                                                                └───┘       »\n",
       "«c_0: ═══════════════════════════════════════════════════════════════════════»\n",
       "«                                                                            »\n",
       "«c_1: ═══════════════════════════════════════════════════════════════════════»\n",
       "«                                                                            »\n",
       "«c_2: ═══════════════════════════════════════════════════════════════════════»\n",
       "«                                                                            »\n",
       "«     ┌───┐┌─────────────────┐┌───┐┌───┐┌─────────────────┐┌───┐»\n",
       "«q_0: ┤ X ├┤ U3(-1.8326,0,0) ├┤ X ├┤ X ├┤ U3(-1.8326,0,0) ├┤ X ├»\n",
       "«     └─┬─┘└─────────────────┘└─┬─┘└─┬─┘└─────────────────┘└─┬─┘»\n",
       "«q_1: ──■───────────────────────■────┼───────────────────────■──»\n",
       "«                                    │                          »\n",
       "«q_2: ───────────────────────────────■──────────────────────────»\n",
       "«                                                               »\n",
       "«c_0: ══════════════════════════════════════════════════════════»\n",
       "«                                                               »\n",
       "«c_1: ══════════════════════════════════════════════════════════»\n",
       "«                                                               »\n",
       "«c_2: ══════════════════════════════════════════════════════════»\n",
       "«                                                               »\n",
       "«     ┌────────────────┐┌───┐┌───┐      ░ ┌─┐      \n",
       "«q_0: ┤ U3(1.8326,0,0) ├┤ X ├┤ X ├──────░─┤M├──────\n",
       "«     └────────────────┘└─┬─┘└─┬─┘┌───┐ ░ └╥┘┌─┐   \n",
       "«q_1: ────────────────────■────┼──┤ X ├─░──╫─┤M├───\n",
       "«                              │  └─┬─┘ ░  ║ └╥┘┌─┐\n",
       "«q_2: ─────────────────────────■────■───░──╫──╫─┤M├\n",
       "«                                       ░  ║  ║ └╥┘\n",
       "«c_0: ═════════════════════════════════════╩══╬══╬═\n",
       "«                                             ║  ║ \n",
       "«c_1: ════════════════════════════════════════╩══╬═\n",
       "«                                                ║ \n",
       "«c_2: ═══════════════════════════════════════════╩═\n",
       "«                                                  </pre>"
      ],
      "text/plain": [
       "<qiskit.visualization.text.TextDrawing at 0x7f2b92434f28>"
      ]
     },
     "execution_count": 8,
     "metadata": {},
     "output_type": "execute_result"
    }
   ],
   "source": [
    "# Add Measurements\n",
    "\n",
    "# Create a Classical Register with 3 bits.\n",
    "c = ClassicalRegister(3, 'c')\n",
    "# Create a Quantum Circuit\n",
    "meas = QuantumCircuit(q, c)\n",
    "meas.barrier(q)\n",
    "# map the quantum measurement to the classical bits\n",
    "meas.measure(q,c)\n",
    "\n",
    "# The Qiskit circuit object supports composition using\n",
    "# the addition operator.\n",
    "qc = qc+meas\n",
    "\n",
    "circuit_drawer(qc)"
   ]
  },
  {
   "cell_type": "code",
   "execution_count": 14,
   "metadata": {},
   "outputs": [
    {
     "data": {
      "image/png": "[encoded data removed]",
      "text/plain": [
       "<Figure size 504x360 with 1 Axes>"
      ]
     },
     "execution_count": 14,
     "metadata": {},
     "output_type": "execute_result"
    }
   ],
   "source": [
    "# Run the quantum circuit on a simulator backend\n",
    "backend = Aer.get_backend('qasm_simulator')\n",
    "shots = 8192\n",
    "\n",
    "# Create a Quantum Program for execution \n",
    "job = execute(qc, backend, shots = shots)\n",
    "\n",
    "# execute\n",
    "result = job.result()\n",
    "\n",
    "counts = result.get_counts(qc)\n",
    "plot_histogram(counts)"
   ]
  },
  {
   "cell_type": "code",
   "execution_count": 66,
   "metadata": {},
   "outputs": [
    {
     "data": {
      "text/plain": [
       "{'000': 5507, '101': 172, '100': 2513}"
      ]
     },
     "execution_count": 66,
     "metadata": {},
     "output_type": "execute_result"
    }
   ],
   "source": [
    "counts"
   ]
  },
  {
   "cell_type": "code",
   "execution_count": 16,
   "metadata": {
    "scrolled": true
   },
   "outputs": [
    {
     "name": "stderr",
     "output_type": "stream",
     "text": [
      "/home/jordan/workspace/qiskit/qiskit_venv/lib/python3.6/site-packages/qiskit/providers/ibmq/ibmqfactory.py:547: DeprecationWarning: IBMQ.backends() is being deprecated. Please use IBMQ.get_provider() to retrieve a provider and AccountProvider.backends() to find its backends.\n",
      "  DeprecationWarning)\n"
     ]
    },
    {
     "name": "stdout",
     "output_type": "stream",
     "text": [
      "The best backend is ibmqx2\n"
     ]
    }
   ],
   "source": [
    "# IBMQ.save_account(token)\n",
    "IBMQ.load_account()\n",
    "\n",
    "\n",
    "shots = 8192           # Number of shots to run the program (experiment); maximum is 8192 shots.\n",
    "max_credits = 10       # Maximum number of credits to spend on executions. \n",
    "n_qubits = 3\n",
    "\n",
    "\n",
    "# large_enough_devices = IBMQ.backends(filters=lambda x: x.configuration()['n_qubits'] >= n_qubits and\n",
    "#                                                        not x.configuration()['simulator'])\n",
    "# backend = least_busy(large_enough_devices)\n",
    "backend = IBMQ.backends(name = 'ibmqx2')[0]\n",
    "print(\"The best backend is \" + backend.name())"
   ]
  },
  {
   "cell_type": "code",
   "execution_count": 17,
   "metadata": {
    "scrolled": true
   },
   "outputs": [],
   "source": [
    "# Hello there\n",
    "# <<<<<<<<<<< EXECUTING real experiment >>>>>>>>>>>>>>\n",
    "run = 1  # keep 0 untill you want to run the experiment, to avoid running by mistake. It is slow and cost credits!\n",
    "if run:\n",
    "    job_exp = execute(qc, backend=backend, shots=shots, max_credits=max_credits)\n",
    "    result = job_exp.result()"
   ]
  },
  {
   "cell_type": "code",
   "execution_count": 18,
   "metadata": {},
   "outputs": [
    {
     "data": {
      "image/png": "[encoded data removed]",
      "text/plain": [
       "<Figure size 504x360 with 1 Axes>"
      ]
     },
     "execution_count": 18,
     "metadata": {},
     "output_type": "execute_result"
    }
   ],
   "source": [
    "counts = result.get_counts(qc)\n",
    "plot_histogram(counts)"
   ]
  },
  {
   "cell_type": "code",
   "execution_count": 12,
   "metadata": {},
   "outputs": [
    {
     "data": {
      "image/png": "[encoded data removed]",
      "text/plain": [
       "<Figure size 504x360 with 1 Axes>"
      ]
     },
     "execution_count": 12,
     "metadata": {},
     "output_type": "execute_result"
    }
   ],
   "source": [
    "#ibmqx2"
   ]
  },
  {
   "cell_type": "code",
   "execution_count": null,
   "metadata": {},
   "outputs": [],
   "source": []
  }
 ],
 "metadata": {
  "kernelspec": {
   "display_name": "Python 3",
   "language": "python",
   "name": "python3"
  },
  "language_info": {
   "codemirror_mode": {
    "name": "ipython",
    "version": 3
   },
   "file_extension": ".py",
   "mimetype": "text/x-python",
   "name": "python",
   "nbconvert_exporter": "python",
   "pygments_lexer": "ipython3",
   "version": "3.6.7"
  }
 },
 "nbformat": 4,
 "nbformat_minor": 2
}
